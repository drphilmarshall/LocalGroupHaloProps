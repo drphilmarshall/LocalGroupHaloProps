{
 "cells": [
  {
   "cell_type": "code",
   "execution_count": 1,
   "metadata": {
    "collapsed": true
   },
   "outputs": [],
   "source": [
    "% matplotlib inline\n",
    "import matplotlib.pyplot as plt\n",
    "from mpl_toolkits.mplot3d import Axes3D"
   ]
  },
  {
   "cell_type": "code",
   "execution_count": 2,
   "metadata": {
    "collapsed": false
   },
   "outputs": [],
   "source": [
    "def LG_Schematic():\n",
    "    iso = plt.Circle((7.5,5), radius=5, fill=False)\n",
    "    mw = plt.Circle((5,5), radius=.2, fill=True)\n",
    "    m31 = plt.Circle((10,5), radius=.2, fill=True, color='r')\n",
    "    mid = plt.Circle((7.5,5), radius=.1, fill=True, color='k')\n",
    "    D_iso = plt.Arrow(7.5,5,0,-5, width=.2, color='k')\n",
    "    lmc = plt.Circle((4,7), radius=.1, fill=True)\n",
    "    m33 = plt.Circle((11,6), radius=.1, fill=True, color='r')\n",
    "    D_lmc = plt.Arrow(5,5,-1,2, width=.2, color='k')\n",
    "    D_m33 = plt.Arrow(10,5,1,1, width=.2, color='k')\n",
    "    D_pair = plt.Arrow(5,5,5,0, width=.2, color='k')\n",
    "\n",
    "\n",
    "\n",
    "    fig=plt.figure(figsize=(20,10))\n",
    "    ax = plt.gca(frameon=False)\n",
    "    ax.get_xaxis().set_visible(False)\n",
    "    ax.get_yaxis().set_visible(False)\n",
    "    ax.set_aspect('equal')\n",
    "    ax.cla() # clear things for fresh plot\n",
    "    # change default range so that new circles will work\n",
    "    ax.set_xlim((0,15))\n",
    "    ax.set_ylim((0,15))\n",
    "\n",
    "    ax.text(4.5,4.1,\"$MW$\", fontsize=16)\n",
    "    ax.text(3.75,7.2,\"$LMC$\", fontsize=16)\n",
    "    ax.text(9.5,4.1,\"$M31$\", fontsize=16)\n",
    "    ax.text(10.75,6.25,\"$M33$\", fontsize=16)\n",
    "    ax.text(7.8,2.1,\"$D_{iso}$\", fontsize=16)\n",
    "    ax.text(4.5,6.0,\"$D_{LMC}$\", fontsize=16)\n",
    "    ax.text(10.5,5.25,\"$D_{M33}$\", fontsize=16)\n",
    "    ax.text(6.25,5.25,\"$D_{Pair}$\", fontsize=16)\n",
    "\n",
    "\n",
    "    fig.gca().add_artist(iso)\n",
    "    fig.gca().add_artist(mw)\n",
    "    fig.gca().add_artist(lmc)\n",
    "    fig.gca().add_artist(m31)\n",
    "    fig.gca().add_artist(m33)\n",
    "    fig.gca().add_artist(mid)\n",
    "    fig.gca().add_artist(D_iso)\n",
    "    fig.gca().add_artist(D_lmc)\n",
    "    fig.gca().add_artist(D_m33)\n",
    "    fig.gca().add_artist(D_pair)\n",
    "    return fig\n",
    "\n",
    "def Equatorial_Schematic():\n",
    "    fig=plt.figure(figsize=(20,10))\n",
    "    ax = plt.gca(frameon=False)\n",
    "    ax.get_xaxis().set_visible(False)\n",
    "    ax.get_yaxis().set_visible(False)\n",
    "    ax.set_aspect('equal')\n",
    "    ax.cla() # clear things for fresh plot\n",
    "    ax.set_xlim((-10,10))\n",
    "    ax.set_ylim((-10,10))\n",
    "\n",
    "\n",
    "    Zaxis = plt.Arrow(0,0,0,10, width=.2, color='k')\n",
    "    Yaxis = plt.Arrow(0,0,10,0, width=.2, color='k')\n",
    "    Xaxis = plt.Arrow(0,0,-3,-7, width=.2, color='k')\n",
    "    DEC = matplotlib.patches.Arc([0,0],width=3, height=3, theta1=-30, theta2=45)\n",
    "    RA = matplotlib.patches.Arc([0,0],width=5, height=5, theta1=-114, theta2=-30)\n",
    "    muDelta = plt.Arrow(7,7,-1.3,2, width=.2, color='k')\n",
    "    muAlpha = plt.Arrow(7,7,1.3,1.5, width=.2, color='k')\n",
    "\n",
    "\n",
    "    plot([7,7],[7,-4],'k--')\n",
    "    plot([0,7],[0,-4],'k--')\n",
    "    plot([0,7],[0,7],'k--')\n",
    "\n",
    "    scatter(7,7, marker='*', s=150)\n",
    "\n",
    "    ax.text(-3.5,-6,\"$X$\", fontsize=16)\n",
    "    ax.text(9,.5,\"$Y$\", fontsize=16)\n",
    "    ax.text(-.75,9,\"$Z$\", fontsize=16)\n",
    "    ax.text(0.5,-3,\"$\\\\alpha$\", fontsize=20)\n",
    "    ax.text(1.5,0.5,\"$\\\\delta$\", fontsize=20)\n",
    "    ax.text(6,9,\"$\\\\mu_{\\\\delta}$\", fontsize=20)\n",
    "    ax.text(8,7.6,\"$\\\\mu_{\\\\alpha*}$\", fontsize=20)\n",
    "\n",
    "\n",
    "    fig.gca().add_artist(Zaxis)\n",
    "    fig.gca().add_artist(Yaxis)\n",
    "    fig.gca().add_artist(Xaxis)\n",
    "    fig.gca().add_artist(DEC)\n",
    "    fig.gca().add_artist(RA)\n",
    "    fig.gca().add_artist(muDelta)\n",
    "    fig.gca().add_artist(muAlpha)\n",
    "    return fig\n",
    "\n",
    "\n",
    "def Heliocentric_Schematic():\n",
    "    fig=plt.figure(figsize=(20,10))\n",
    "    ax = plt.gca(frameon=False)\n",
    "    ax.get_xaxis().set_visible(False)\n",
    "    ax.get_yaxis().set_visible(False)\n",
    "    ax.set_aspect('equal')\n",
    "    ax.cla() # clear things for fresh plot\n",
    "    ax.set_xlim((-10,10))\n",
    "    ax.set_ylim((-10,10))\n",
    "\n",
    "\n",
    "    Zaxis = plt.Arrow(0,0,0,10, width=.2, color='k')\n",
    "    Yaxis = plt.Arrow(0,0,10,0, width=.2, color='k')\n",
    "    Xaxis = plt.Arrow(0,0,-3,-7, width=.2, color='k')\n",
    "    DEC = matplotlib.patches.Arc([0,0],width=3, height=3, theta1=-30, theta2=45)\n",
    "    RA = matplotlib.patches.Arc([0,0],width=5, height=5, theta1=-114, theta2=-30)\n",
    "    muDelta = plt.Arrow(7,7,-1.3,2, width=.2, color='k')\n",
    "    muAlpha = plt.Arrow(7,7,1.3,1.5, width=.2, color='k')\n",
    "\n",
    "\n",
    "    plot([7,7],[7,-4],'k--')\n",
    "    plot([0,7],[0,-4],'k--')\n",
    "    plot([0,7],[0,7],'k--')\n",
    "\n",
    "    scatter(7,7, marker='*', s=150)\n",
    "\n",
    "    ax.text(-3.5,-6,\"$X$\", fontsize=16)\n",
    "    ax.text(9,.5,\"$Y$\", fontsize=16)\n",
    "    ax.text(-.75,9,\"$Z$\", fontsize=16)\n",
    "    ax.text(0.5,-3,\"$\\\\alpha$\", fontsize=20)\n",
    "    ax.text(1.5,0.5,\"$\\\\delta$\", fontsize=20)\n",
    "    ax.text(6,9,\"$\\\\mu_{\\\\delta}$\", fontsize=20)\n",
    "    ax.text(8,7.6,\"$\\\\mu_{\\\\alpha*}$\", fontsize=20)\n",
    "\n",
    "\n",
    "    fig.gca().add_artist(Zaxis)\n",
    "    fig.gca().add_artist(Yaxis)\n",
    "    fig.gca().add_artist(Xaxis)\n",
    "    fig.gca().add_artist(DEC)\n",
    "    fig.gca().add_artist(RA)\n",
    "    fig.gca().add_artist(muDelta)\n",
    "    fig.gca().add_artist(muAlpha)\n",
    "    return fig\n"
   ]
  },
  {
   "cell_type": "code",
   "execution_count": null,
   "metadata": {
    "collapsed": false
   },
   "outputs": [],
   "source": [
    "f = LG_Schematic()\n",
    "f.savefig(\"/afs/slac.stanford.edu/u/ki/mwillia1/Thesis/LocalGroupHaloProps/doc/paper/figures/iso_diagram.png\", dpi=800)"
   ]
  },
  {
   "cell_type": "code",
   "execution_count": 7,
   "metadata": {
    "collapsed": false
   },
   "outputs": [
    {
     "data": {
      "image/png": "[encoded data removed]",
      "text/plain": [
       "<matplotlib.figure.Figure at 0x4456210>"
      ]
     },
     "metadata": {},
     "output_type": "display_data"
    }
   ],
   "source": [
    "f=Equatorial_Schematic()"
   ]
  },
  {
   "cell_type": "code",
   "execution_count": 10,
   "metadata": {
    "collapsed": false
   },
   "outputs": [
    {
     "data": {
      "image/png": "[encoded data removed]",
      "text/plain": [
       "<matplotlib.figure.Figure at 0x3b81750>"
      ]
     },
     "metadata": {},
     "output_type": "display_data"
    }
   ],
   "source": [
    "f=Heliocentric_Schematic()"
   ]
  },
  {
   "cell_type": "code",
   "execution_count": null,
   "metadata": {
    "collapsed": true
   },
   "outputs": [],
   "source": []
  }
 ],
 "metadata": {
  "kernelspec": {
   "display_name": "Python 2",
   "language": "python",
   "name": "python2"
  },
  "language_info": {
   "codemirror_mode": {
    "name": "ipython",
    "version": 2
   },
   "file_extension": ".py",
   "mimetype": "text/x-python",
   "name": "python",
   "nbconvert_exporter": "python",
   "pygments_lexer": "ipython2",
   "version": "2.7.3"
  }
 },
 "nbformat": 4,
 "nbformat_minor": 0
}
