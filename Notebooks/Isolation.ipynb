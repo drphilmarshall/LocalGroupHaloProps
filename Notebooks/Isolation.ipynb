{
 "cells": [
  {
   "cell_type": "code",
   "execution_count": 1,
   "metadata": {
    "collapsed": false
   },
   "outputs": [],
   "source": [
    "import localgroup\n",
    "import iso_criteria\n",
    "\n",
    "\n",
    "\n",
    "import sys\n",
    "sys.path.append('/u/ki/yymao/pyscripts')\n",
    "from helpers.SimulationAnalysis import readHlist\n",
    "from fast3tree import fast3tree"
   ]
  },
  {
   "cell_type": "code",
   "execution_count": 98,
   "metadata": {
    "collapsed": false
   },
   "outputs": [],
   "source": [
    "import numpy as np\n",
    "from sdfpy import load_sdf, SDFIndex, SDFRead\n",
    "from itertools import product\n",
    "\n",
    "fname = \"/nfs/slac/g/ki/darksky/simulations/ds14_b/ds14_b_halos_1.0000\" \n",
    "halos_data = SDFRead(fname)\n",
    "halos_midx = SDFRead(fname + '.midx7')\n",
    "halos = SDFIndex(halos_data, halos_midx)\n",
    "\n",
    "fields = 'x y z vx vy vz mvir rvir vmax id mvir_pid'.split()\n",
    "pad = np.array([2.0, 2.0, 2.0]) #in Mpc/h\n",
    "\n",
    "def get_data(level, cell_iarr, pad, fields, cut=None, cut_fields=None):\n",
    "    dtype = np.dtype([(f, int if f.endswith('id') else float) for f in fields])\n",
    "    count = 0\n",
    "    for h in halos.iter_padded_bbox_data(level, idx, pad, fields):\n",
    "        if hasattr(cut, '__call__'):\n",
    "            flag = cut(*(h[f] for f in cut_fields))\n",
    "            count_this = np.count_nonzero(flag)\n",
    "        else:\n",
    "            flag = slice(None)\n",
    "            count_this = len(h[fields[0]])\n",
    "        if count_this:\n",
    "            if count:\n",
    "                data.resize(count+count_this)\n",
    "            else:\n",
    "                data = np.empty(count_this, dtype)\n",
    "            for f in fields:\n",
    "                data[f][count:] = h[f][flag]\n",
    "            count += count_this\n",
    "    if not count:\n",
    "        data = np.empty(0, dtype)\n",
    "    return data\n",
    "\n",
    "level = 3\n",
    "for idx in product(xrange(2**level), repeat=3):\n",
    "    data = get_data(level, idx, pad, fields, lambda x: x > 40.0, ['vmax'])\n",
    "    break"
   ]
  },
  {
   "cell_type": "code",
   "execution_count": 100,
   "metadata": {
    "collapsed": false
   },
   "outputs": [
    {
     "data": {
      "text/plain": [
       "array([  2.21165384e+10,   2.76075418e+10,   1.55578409e+10, ...,\n",
       "         2.53196227e+10,   1.81508137e+10,   4.09537290e+10])"
      ]
     },
     "execution_count": 100,
     "metadata": {},
     "output_type": "execute_result"
    }
   ],
   "source": [
    "data['mvir']"
   ]
  },
  {
   "cell_type": "code",
   "execution_count": 2,
   "metadata": {
    "collapsed": false,
    "scrolled": false
   },
   "outputs": [
    {
     "ename": "NameError",
     "evalue": "name 'product' is not defined",
     "output_type": "error",
     "traceback": [
      "\u001b[1;31m---------------------------------------------------------------------------\u001b[0m",
      "\u001b[1;31mNameError\u001b[0m                                 Traceback (most recent call last)",
      "\u001b[1;32m<ipython-input-2-d8b5b5f016a8>\u001b[0m in \u001b[0;36m<module>\u001b[1;34m()\u001b[0m\n\u001b[0;32m      1\u001b[0m \u001b[0mlevel\u001b[0m \u001b[1;33m=\u001b[0m \u001b[1;36m3\u001b[0m\u001b[1;33m\u001b[0m\u001b[0m\n\u001b[1;32m----> 2\u001b[1;33m \u001b[1;32mfor\u001b[0m \u001b[0midx\u001b[0m \u001b[1;32min\u001b[0m \u001b[0mproduct\u001b[0m\u001b[1;33m(\u001b[0m\u001b[0mxrange\u001b[0m\u001b[1;33m(\u001b[0m\u001b[1;36m2\u001b[0m\u001b[1;33m**\u001b[0m\u001b[0mlevel\u001b[0m\u001b[1;33m)\u001b[0m\u001b[1;33m,\u001b[0m \u001b[0mrepeat\u001b[0m\u001b[1;33m=\u001b[0m\u001b[1;36m3\u001b[0m\u001b[1;33m)\u001b[0m\u001b[1;33m:\u001b[0m\u001b[1;33m\u001b[0m\u001b[0m\n\u001b[0m\u001b[0;32m      3\u001b[0m     \u001b[1;32mprint\u001b[0m \u001b[0midx\u001b[0m\u001b[1;33m;\u001b[0m\u001b[1;33m\u001b[0m\u001b[0m\n",
      "\u001b[1;31mNameError\u001b[0m: name 'product' is not defined"
     ]
    }
   ],
   "source": [
    "level = 3\n",
    "for idx in product(xrange(2**level), repeat=3):\n",
    "    print idx"
   ]
  },
  {
   "cell_type": "code",
   "execution_count": null,
   "metadata": {
    "collapsed": true
   },
   "outputs": [],
   "source": []
  },
  {
   "cell_type": "code",
   "execution_count": null,
   "metadata": {
    "collapsed": true
   },
   "outputs": [],
   "source": []
  },
  {
   "cell_type": "code",
   "execution_count": 2,
   "metadata": {
    "collapsed": false
   },
   "outputs": [],
   "source": [
    "#path = '/nfs/slac/g/ki/ki20/cosmo/behroozi/Consuelo/4001/hlists/hlist_1.00000.list'\n",
    "#halos = readHlist(path)"
   ]
  },
  {
   "cell_type": "code",
   "execution_count": 3,
   "metadata": {
    "collapsed": true
   },
   "outputs": [],
   "source": [
    "#np.save('/lustre/ki/pfs/mwillia1/LG_project/Consuelo_Boxes/4001hlist.npy', halos)"
   ]
  },
  {
   "cell_type": "code",
   "execution_count": 9,
   "metadata": {
    "collapsed": true
   },
   "outputs": [],
   "source": [
    "halos = np.load('/lustre/ki/pfs/mwillia1/LG_project/Consuelo_Boxes/4001hlist.npy')"
   ]
  },
  {
   "cell_type": "code",
   "execution_count": 16,
   "metadata": {
    "collapsed": true
   },
   "outputs": [],
   "source": [
    "halos = halos[halos['vmax']>100]"
   ]
  },
  {
   "cell_type": "code",
   "execution_count": 17,
   "metadata": {
    "collapsed": false
   },
   "outputs": [
    {
     "data": {
      "text/plain": [
       "(1290811,)"
      ]
     },
     "execution_count": 17,
     "metadata": {},
     "output_type": "execute_result"
    }
   ],
   "source": [
    "halos.shape"
   ]
  },
  {
   "cell_type": "code",
   "execution_count": 19,
   "metadata": {
    "collapsed": true
   },
   "outputs": [],
   "source": [
    "host_flag = np.where(halos['upid'] == -1)[0]"
   ]
  },
  {
   "cell_type": "code",
   "execution_count": 40,
   "metadata": {
    "collapsed": false
   },
   "outputs": [],
   "source": [
    "def find_pairs(halos, host_flag, D):\n",
    "    pairs = []\n",
    "    points = halos[host_flag][list('xyz')].view(float).reshape(-1, 3)\n",
    "    with fast3tree(points) as tree:\n",
    "        for i, p in enumerate(points):\n",
    "            idx = tree.query_radius(p, D, True, 'index')\n",
    "            idx = idx[idx > i]\n",
    "            pairs.extend(((i, j) if halos['mvir'][host_flag[i]] > halos['mvir'][host_flag[j]] else (j, i) for j in idx))\n",
    "    return pairs\n",
    "\n",
    "def find_periodic_midpoint(p1, p2, box_size, periodic=True):\n",
    "    mid = (p1 + p2)*0.5\n",
    "    if not periodic:\n",
    "        return mid\n",
    "    half_box_size = box_size*0.5\n",
    "    mid[np.fabs(p1 - p2) > half_box_size] += half_box_size\n",
    "    mid = np.fmod(mid, box_size)\n",
    "    return mid\n",
    "\n",
    "def isolated(pairs, halos, host_flag, D_iso, D_M33, box_size, periodic=True):\n",
    "    print 'before: ', len(pairs)\n",
    "#    iso_pairs = []\n",
    "    MW_M31_larger = []\n",
    "    M31_M31_larger = []\n",
    "    M33_M31_larger = []\n",
    "    M33_M33_larger = []\n",
    "    M31_M33_larger = []\n",
    "    MW_M33_larger = []\n",
    "    with fast3tree(halos[list('xyz')].view(float).reshape(-1, 3)) as tree:\n",
    "        for pair in pairs:\n",
    "            print pair\n",
    "            h1, h2 = halos[host_flag[list(pair)]] #h1 is the larger halo\n",
    "            p1 = np.fromiter((h1[ax] for ax in 'xyz'), float)\n",
    "            p2 = np.fromiter((h2[ax] for ax in 'xyz'), float)\n",
    "\n",
    "            mid = find_periodic_midpoint(p1, p2, box_size, periodic)\n",
    "            idx = tree.query_radius(mid, D_iso, periodic, 'index')\n",
    "\n",
    "            biggest = halos['mvir'][idx].argmax()\n",
    "            idx = np.delete(idx, biggest)\n",
    "            biggest = halos['mvir'][idx].argmax() #biggest is now second-biggest\n",
    "            \n",
    "\n",
    "            # the second index has a smaller mass\n",
    "            if h2['mvir'] == halos['mvir'][idx[biggest]]:\n",
    "#                iso_pairs.append(pair) #satisfying iso\n",
    "                M31_M31_larger.append(pair[0])\n",
    "                MW_M31_larger.append(pair[1])\n",
    "            else:\n",
    "                continue #no need to search M33\n",
    "            \n",
    "                \n",
    "\n",
    "            #find M33, in two ways\n",
    "            idx = tree.query_radius(p1, D_M33, periodic, 'index')\n",
    "#            idx = idx[halos['vmax'][idx] < 80]\n",
    "#            M33_ind = idx[halos['mvir'][idx].argmax()] if len(idx) else -1\n",
    "            m31_delete_ind = halos['mvir'][idx].argmax()\n",
    "            idx = np.delete(idx, m31_delete_ind) #So we don't identify M31 as M33\n",
    "            if len(idx):\n",
    "                m33_candidate = halos['mvir'][idx].argmax()\n",
    "                if halos[idx[m33_candidate]]['id']==halos[host_flag][pair[1]]['id']: #If MW is identified as M33\n",
    "                    idx = np.delete(idx, m33_candidate)\n",
    "            M33_ind = idx[halos['mvir'][idx].argmax()] if len(idx) else -1\n",
    "            if halos['vmax'][M33_ind] > 80: M33_ind = -1\n",
    "            M33_M31_larger.append(M33_ind)\n",
    "\n",
    "            idx = tree.query_radius(p2, D_M33, periodic, 'index')\n",
    "#            idx = idx[halos['vmax'][idx] < 80]\n",
    "#            LMC_ind = idx[halos['mvir'][idx].argmax()] if len(idx) else -1\n",
    "            m31_delete_ind = halos['mvir'][idx].argmax()\n",
    "            idx = np.delete(idx, m31_delete_ind) #So we don't identify M31 as M33\n",
    "            if len(idx):\n",
    "                m33_candidate = halos['mvir'][idx].argmax()\n",
    "                if halos[idx[m33_candidate]]['id']==halos[host_flag][pair[1]]['id']: #If MW is identified as M33\n",
    "                    idx = np.delete(idx, m33_candidate)\n",
    "            LMC_ind = idx[halos['mvir'][idx].argmax()] if len(idx) else -1\n",
    "            if halos['vmax'][LMC_ind] > 80: LMC_ind = -1\n",
    "                \n",
    "            M33_mass = halos['mvir'][M33_ind] if M33_ind != -1 else 0\n",
    "            LMC_mass = halos['mvir'][LMC_ind] if LMC_ind != -1 else 0\n",
    "\n",
    "            if LMC_mass > M33_mass:\n",
    "                M33_ind = LMC_ind\n",
    "                M31_M33_larger.append(pair[1]) #append the smaller mass index in the pair -> M31 since LMC > M33\n",
    "                MW_M33_larger.append(pair[0]) #append the larger mass index in the pair -> MW since LMC > M33\n",
    "            else:\n",
    "                M31_M33_larger.append(pair[0]) #append the smaller mass index in the pair -> M31 since LMC < M33\n",
    "                MW_M33_larger.append(pair[1]) #append the larger mass index in the pair -> MW since LMC < M33\n",
    "            M33_M33_larger.append(M33_ind)\n",
    "\n",
    "    print 'after: ', len(MW_M31_larger)\n",
    "    return MW_M31_larger, M31_M31_larger, M33_M31_larger, M33_M33_larger, M31_M33_larger, MW_M33_larger\n"
   ]
  },
  {
   "cell_type": "code",
   "execution_count": null,
   "metadata": {
    "collapsed": true
   },
   "outputs": [],
   "source": []
  },
  {
   "cell_type": "code",
   "execution_count": 20,
   "metadata": {
    "collapsed": false
   },
   "outputs": [],
   "source": [
    "pairs = find_pairs(halos, host_flag, 1.0)"
   ]
  },
  {
   "cell_type": "code",
   "execution_count": 38,
   "metadata": {
    "collapsed": false
   },
   "outputs": [
    {
     "data": {
      "text/plain": [
       "416667"
      ]
     },
     "execution_count": 38,
     "metadata": {},
     "output_type": "execute_result"
    }
   ],
   "source": [
    "len(pairs)"
   ]
  },
  {
   "cell_type": "code",
   "execution_count": 41,
   "metadata": {
    "collapsed": false
   },
   "outputs": [
    {
     "name": "stdout",
     "output_type": "stream",
     "text": [
      "before:  416667\n",
      "(25, 104012)\n",
      "(25, 368863)\n",
      "(26, 192790)\n",
      "(26, 212589)\n",
      "(27, 503751)\n",
      "(30, 104088)\n",
      "(30, 172252)\n",
      "(32, 596240)\n",
      "(32, 467)\n",
      "(35, 315434)\n",
      "(35, 28824)\n",
      "(36, 273447)\n",
      "(36, 398019)\n",
      "(37, 74992)\n",
      "(38, 142448)\n",
      "(38, 388189)\n",
      "(38, 74443)\n",
      "(39, 315803)\n",
      "(42, 473353)\n",
      "(42, 398053)\n",
      "(42, 347468)\n",
      "(43, 208)\n",
      "(43, 558217)\n",
      "(43, 47862)\n",
      "(44, 283957)\n",
      "(44, 326610)\n",
      "(44, 254361)\n",
      "(45, 115492)\n",
      "(45, 56229)\n",
      "(45, 315796)\n",
      "(47, 397853)\n",
      "(48, 415779)\n",
      "(52, 398081)\n",
      "(54, 74413)\n",
      "(55, 473293)\n",
      "(55, 254113)\n",
      "(55, 305760)\n",
      "(56, 572125)\n",
      "(57, 517597)\n",
      "(58, 273134)\n",
      "(58, 94769)\n",
      "(58, 377287)\n",
      "(59, 47282)\n",
      "(63, 47491)\n",
      "(63, 273182)\n",
      "(66, 201971)\n",
      "(67, 48008)\n",
      "(68, 338510)\n",
      "(72, 20602)\n",
      "(72, 449762)\n",
      "(72, 296649)\n",
      "(73, 192353)\n",
      "(74, 473)\n",
      "(75, 115312)\n",
      "(75, 434070)\n",
      "(75, 212570)\n",
      "(75, 606146)\n",
      "(76, 434208)\n",
      "(76, 142904)\n",
      "(76, 182973)\n",
      "(77, 627205)\n",
      "(77, 368710)\n",
      "(77, 442279)\n",
      "(78, 467668)\n",
      "(79, 576056)\n",
      "(79, 273859)\n",
      "(80, 623186)\n",
      "(80, 153870)\n",
      "(81, 425285)\n",
      "(81, 415845)\n",
      "(81, 434207)\n",
      "(81, 306197)\n",
      "(81, 489866)\n",
      "(82, 377156)\n",
      "(82, 338257)\n",
      "(83, 56940)\n",
      "(83, 434169)\n",
      "(84, 74526)\n",
      "(84, 47497)\n",
      "(84, 56385)\n",
      "(86, 326442)\n",
      "(87, 552522)\n",
      "(87, 356536)\n",
      "(88, 541245)\n",
      "(88, 434242)\n",
      "(88, 47206)\n",
      "(88, 234047)\n",
      "(88, 74343)\n",
      "(89, 482213)\n",
      "(89, 37862)\n",
      "(89, 193094)\n",
      "(90, 368488)\n",
      "(90, 192557)\n",
      "(91, 162266)\n",
      "(91, 182761)\n",
      "(91, 315668)\n",
      "(93, 262657)\n",
      "(93, 442265)\n",
      "(96, 458873)\n",
      "(96, 377094)\n",
      "(96, 182949)\n",
      "(98, 442283)\n",
      "(98, 9375)\n",
      "(99, 244132)\n",
      "(102, 153654)\n",
      "(102, 473349)\n",
      "(103, 523637)\n",
      "(103, 338551)\n",
      "(104, 172344)\n",
      "(104, 449841)\n",
      "(104, 201296)\n",
      "(108, 56769)\n",
      "(108, 606147)\n",
      "(108, 212177)\n",
      "(108, 634468)\n",
      "(109, 425362)\n",
      "(110, 425386)\n",
      "(110, 338221)\n",
      "(110, 347391)\n",
      "(113, 66968)\n",
      "(114, 37188)\n",
      "(114, 153958)\n",
      "(115, 473357)\n",
      "(115, 415649)\n",
      "(115, 244184)\n",
      "(116, 183142)\n",
      "(116, 537463)\n",
      "(116, 356240)\n",
      "(116, 273451)\n",
      "(118, 192675)\n",
      "(118, 338534)\n",
      "(118, 74932)\n",
      "(119, 511724)\n",
      "(119, 233604)\n",
      "(119, 83953)\n",
      "(119, 415804)\n",
      "(120, 633134)\n",
      "(120, 193177)\n",
      "(122, 233698)\n",
      "(122, 122664)\n",
      "(123, 201966)\n",
      "(123, 153954)\n",
      "(124, 273680)\n",
      "(125, 66196)\n",
      "(125, 74455)\n",
      "(126, 473291)\n",
      "(126, 434230)\n",
      "(126, 537467)\n",
      "(126, 497312)\n",
      "(127, 8701)\n",
      "(127, 647806)\n",
      "(127, 315370)\n",
      "(127, 473353)\n",
      "(129, 523660)\n",
      "(129, 74580)\n",
      "(130, 222250)\n",
      "(131, 8882)\n",
      "(132, 183264)\n",
      "(133, 182731)\n",
      "(133, 262796)\n",
      "(133, 114705)\n",
      "(134, 262972)\n",
      "(134, 473379)\n",
      "(135, 66624)\n",
      "(136, 104747)\n",
      "(138, 263078)\n",
      "(139, 592233)\n",
      "(139, 37921)\n",
      "(142, 458861)\n",
      "(142, 47995)\n",
      "(143, 296066)\n",
      "(143, 273612)\n",
      "(144, 20042)\n",
      "(144, 315336)\n",
      "(146, 517584)\n",
      "(147, 572124)\n",
      "(150, 28378)\n",
      "(150, 28059)\n",
      "(151, 233884)\n",
      "(151, 132979)\n",
      "(152, 338638)\n",
      "(154, 83895)\n",
      "(154, 388366)\n",
      "(154, 434154)\n",
      "(155, 415616)\n",
      "(155, 315683)\n",
      "(157, 347808)\n",
      "(158, 104265)\n",
      "(158, 122589)\n",
      "(159, 94153)\n",
      "(159, 37160)\n",
      "(159, 315099)\n",
      "(160, 66896)\n",
      "(161, 467610)\n",
      "(161, 405976)\n",
      "(162, 182681)\n",
      "(163, 326492)\n",
      "(166, 19991)\n",
      "(167, 94049)\n",
      "(168, 523645)\n",
      "(168, 133210)\n",
      "(168, 450)\n",
      "(168, 442396)\n",
      "(169, 211994)\n",
      "(169, 415893)\n",
      "(171, 326646)\n",
      "(172, 368879)\n",
      "(172, 315110)\n",
      "(172, 221801)\n",
      "(173, 183178)\n",
      "(173, 368718)\n",
      "(173, 57078)\n",
      "(174, 347439)\n",
      "(174, 172143)\n",
      "(174, 104237)\n",
      "(176, 347320)\n",
      "(176, 162299)\n",
      "(177, 56968)\n",
      "(180, 172139)\n",
      "(180, 183133)\n",
      "(181, 133431)\n",
      "(181, 66504)\n",
      "(182, 244264)\n",
      "(182, 306056)\n",
      "(182, 212486)\n",
      "(183, 572125)\n",
      "(183, 415698)\n",
      "(183, 296781)\n",
      "(185, 234119)\n",
      "(185, 306059)\n",
      "(186, 405881)\n",
      "(186, 83573)\n",
      "(187, 315501)\n",
      "(188, 273456)\n",
      "(188, 192880)\n",
      "(188, 234023)\n",
      "(188, 254369)\n",
      "(189, 28360)\n",
      "(189, 482200)\n",
      "(189, 172386)\n",
      "(189, 47626)\n",
      "(190, 497382)\n",
      "(190, 122081)\n",
      "(190, 388242)\n",
      "(191, 671)\n"
     ]
    },
    {
     "ename": "KeyboardInterrupt",
     "evalue": "",
     "output_type": "error",
     "traceback": [
      "\u001b[1;31m---------------------------------------------------------------------------\u001b[0m",
      "\u001b[1;31mKeyboardInterrupt\u001b[0m                         Traceback (most recent call last)",
      "\u001b[1;32m<ipython-input-41-c05729ecc92b>\u001b[0m in \u001b[0;36m<module>\u001b[1;34m()\u001b[0m\n\u001b[1;32m----> 1\u001b[1;33m \u001b[0mMW_M31_larger\u001b[0m\u001b[1;33m,\u001b[0m \u001b[0mM31_M31_larger\u001b[0m\u001b[1;33m,\u001b[0m \u001b[0mM33_M31_larger\u001b[0m\u001b[1;33m,\u001b[0m \u001b[0mM33_M33_larger\u001b[0m\u001b[1;33m,\u001b[0m \u001b[0mM31_M33_larger\u001b[0m\u001b[1;33m,\u001b[0m \u001b[0mMW_M33_larger\u001b[0m \u001b[1;33m=\u001b[0m \u001b[0misolated\u001b[0m\u001b[1;33m(\u001b[0m\u001b[0mpairs\u001b[0m\u001b[1;33m,\u001b[0m \u001b[0mhalos\u001b[0m\u001b[1;33m,\u001b[0m \u001b[0mhost_flag\u001b[0m\u001b[1;33m,\u001b[0m \u001b[1;36m2.0\u001b[0m\u001b[1;33m/\u001b[0m\u001b[1;36m0.7\u001b[0m\u001b[1;33m,\u001b[0m \u001b[1;36m0.4\u001b[0m\u001b[1;33m/\u001b[0m\u001b[1;36m0.7\u001b[0m\u001b[1;33m,\u001b[0m \u001b[1;36m420\u001b[0m\u001b[1;33m,\u001b[0m \u001b[0mperiodic\u001b[0m\u001b[1;33m=\u001b[0m\u001b[0mTrue\u001b[0m\u001b[1;33m)\u001b[0m\u001b[1;33m\u001b[0m\u001b[0m\n\u001b[0m",
      "\u001b[1;32m<ipython-input-40-00711b66471f>\u001b[0m in \u001b[0;36misolated\u001b[1;34m(pairs, halos, host_flag, D_iso, D_M33, box_size, periodic)\u001b[0m\n\u001b[0;32m     60\u001b[0m             \u001b[1;32mif\u001b[0m \u001b[0mlen\u001b[0m\u001b[1;33m(\u001b[0m\u001b[0midx\u001b[0m\u001b[1;33m)\u001b[0m\u001b[1;33m:\u001b[0m\u001b[1;33m\u001b[0m\u001b[0m\n\u001b[0;32m     61\u001b[0m                 \u001b[0mm33_candidate\u001b[0m \u001b[1;33m=\u001b[0m \u001b[0mhalos\u001b[0m\u001b[1;33m[\u001b[0m\u001b[1;34m'mvir'\u001b[0m\u001b[1;33m]\u001b[0m\u001b[1;33m[\u001b[0m\u001b[0midx\u001b[0m\u001b[1;33m]\u001b[0m\u001b[1;33m.\u001b[0m\u001b[0margmax\u001b[0m\u001b[1;33m(\u001b[0m\u001b[1;33m)\u001b[0m\u001b[1;33m\u001b[0m\u001b[0m\n\u001b[1;32m---> 62\u001b[1;33m                 \u001b[1;32mif\u001b[0m \u001b[0mhalos\u001b[0m\u001b[1;33m[\u001b[0m\u001b[0midx\u001b[0m\u001b[1;33m[\u001b[0m\u001b[0mm33_candidate\u001b[0m\u001b[1;33m]\u001b[0m\u001b[1;33m]\u001b[0m\u001b[1;33m[\u001b[0m\u001b[1;34m'id'\u001b[0m\u001b[1;33m]\u001b[0m\u001b[1;33m==\u001b[0m\u001b[0mhalos\u001b[0m\u001b[1;33m[\u001b[0m\u001b[0mhost_flag\u001b[0m\u001b[1;33m]\u001b[0m\u001b[1;33m[\u001b[0m\u001b[0mpair\u001b[0m\u001b[1;33m[\u001b[0m\u001b[1;36m1\u001b[0m\u001b[1;33m]\u001b[0m\u001b[1;33m]\u001b[0m\u001b[1;33m[\u001b[0m\u001b[1;34m'id'\u001b[0m\u001b[1;33m]\u001b[0m\u001b[1;33m:\u001b[0m \u001b[1;31m#If MW is identified as M33\u001b[0m\u001b[1;33m\u001b[0m\u001b[0m\n\u001b[0m\u001b[0;32m     63\u001b[0m                     \u001b[0midx\u001b[0m \u001b[1;33m=\u001b[0m \u001b[0mnp\u001b[0m\u001b[1;33m.\u001b[0m\u001b[0mdelete\u001b[0m\u001b[1;33m(\u001b[0m\u001b[0midx\u001b[0m\u001b[1;33m,\u001b[0m \u001b[0mm33_candidate\u001b[0m\u001b[1;33m)\u001b[0m\u001b[1;33m\u001b[0m\u001b[0m\n\u001b[0;32m     64\u001b[0m             \u001b[0mM33_ind\u001b[0m \u001b[1;33m=\u001b[0m \u001b[0midx\u001b[0m\u001b[1;33m[\u001b[0m\u001b[0mhalos\u001b[0m\u001b[1;33m[\u001b[0m\u001b[1;34m'mvir'\u001b[0m\u001b[1;33m]\u001b[0m\u001b[1;33m[\u001b[0m\u001b[0midx\u001b[0m\u001b[1;33m]\u001b[0m\u001b[1;33m.\u001b[0m\u001b[0margmax\u001b[0m\u001b[1;33m(\u001b[0m\u001b[1;33m)\u001b[0m\u001b[1;33m]\u001b[0m \u001b[1;32mif\u001b[0m \u001b[0mlen\u001b[0m\u001b[1;33m(\u001b[0m\u001b[0midx\u001b[0m\u001b[1;33m)\u001b[0m \u001b[1;32melse\u001b[0m \u001b[1;33m-\u001b[0m\u001b[1;36m1\u001b[0m\u001b[1;33m\u001b[0m\u001b[0m\n",
      "\u001b[1;31mKeyboardInterrupt\u001b[0m: "
     ]
    }
   ],
   "source": [
    "MW_M31_larger, M31_M31_larger, M33_M31_larger, M33_M33_larger, M31_M33_larger, MW_M33_larger = isolated(pairs, halos, host_flag, 2.0/0.7, 0.4/0.7, 420, periodic=True)"
   ]
  },
  {
   "cell_type": "code",
   "execution_count": 22,
   "metadata": {
    "collapsed": false
   },
   "outputs": [
    {
     "data": {
      "text/plain": [
       "54241"
      ]
     },
     "execution_count": 22,
     "metadata": {},
     "output_type": "execute_result"
    }
   ],
   "source": [
    "a=np.array(M33_M31_larger)\n",
    "len(a[a[:] > 0])"
   ]
  },
  {
   "cell_type": "code",
   "execution_count": null,
   "metadata": {
    "collapsed": true
   },
   "outputs": [],
   "source": []
  },
  {
   "cell_type": "code",
   "execution_count": 88,
   "metadata": {
    "collapsed": true
   },
   "outputs": [],
   "source": [
    "#hosts_subs = halos[halos['vmax']>80]\n",
    "#zall = np.vstack((hosts_subs['x'], hosts_subs['y'], hosts_subs['z'])).T\n",
    "#zall = zall[1100000:1200000]\n",
    "#masses_subs = hosts_subs['mvir'][1100000:1200000]"
   ]
  },
  {
   "cell_type": "code",
   "execution_count": 5,
   "metadata": {
    "collapsed": false
   },
   "outputs": [
    {
     "data": {
      "text/plain": [
       "(1876946,)"
      ]
     },
     "execution_count": 5,
     "metadata": {},
     "output_type": "execute_result"
    }
   ],
   "source": [
    "#hosts = halos[halos['upid']==-1]\n",
    "#hosts = hosts[hosts['vmax']>80]\n",
    "#hosts.shape"
   ]
  },
  {
   "cell_type": "code",
   "execution_count": 6,
   "metadata": {
    "collapsed": true
   },
   "outputs": [],
   "source": [
    "#z = np.vstack((hosts['x'], hosts['y'], hosts['z'])).T\n",
    "#z = z[1100000:1200000]\n",
    "#masses = hosts['mvir'][1100000:1200000]"
   ]
  },
  {
   "cell_type": "code",
   "execution_count": 12,
   "metadata": {
    "collapsed": false
   },
   "outputs": [
    {
     "name": "stdout",
     "output_type": "stream",
     "text": [
      "419.99866\n",
      "419.99811\n",
      "419.99713\n"
     ]
    }
   ],
   "source": [
    "#for i in range(z.shape[1]):\n",
    "#    print z[:,i].max()"
   ]
  },
  {
   "cell_type": "code",
   "execution_count": 59,
   "metadata": {
    "collapsed": false
   },
   "outputs": [],
   "source": [
    "#pairs = iso_criteria.criteria.find_pairs(z, 1.0)"
   ]
  },
  {
   "cell_type": "code",
   "execution_count": 60,
   "metadata": {
    "collapsed": false
   },
   "outputs": [
    {
     "data": {
      "text/plain": [
       "13347"
      ]
     },
     "execution_count": 60,
     "metadata": {},
     "output_type": "execute_result"
    }
   ],
   "source": [
    "len(pairs)"
   ]
  },
  {
   "cell_type": "code",
   "execution_count": 13,
   "metadata": {
    "collapsed": false
   },
   "outputs": [
    {
     "name": "stdout",
     "output_type": "stream",
     "text": [
      "before:  13347\n",
      "after:  5484\n"
     ]
    }
   ],
   "source": [
    "isopairs = iso_criteria.criteria.isolated(pairs, 2, z, masses, 420, True)"
   ]
  },
  {
   "cell_type": "code",
   "execution_count": 84,
   "metadata": {
    "collapsed": true
   },
   "outputs": [],
   "source": [
    "MW_inds, M31_inds = iso_criteria.criteria.label_MW_M31(isopairs, masses)"
   ]
  },
  {
   "cell_type": "code",
   "execution_count": 90,
   "metadata": {
    "collapsed": false
   },
   "outputs": [],
   "source": [
    "M33_inds = iso_criteria.criteria.find_M33(zall, 0.4, masses_subs, M31_inds, z, True)\n"
   ]
  },
  {
   "cell_type": "code",
   "execution_count": 94,
   "metadata": {
    "collapsed": true
   },
   "outputs": [],
   "source": [
    "M33_inds = np.array(M33_inds)\n",
    "a=np.array(M33_inds)[M33_inds>0]"
   ]
  },
  {
   "cell_type": "code",
   "execution_count": 104,
   "metadata": {
    "collapsed": false
   },
   "outputs": [
    {
     "data": {
      "text/plain": [
       "(5484, 5484, 5484)"
      ]
     },
     "execution_count": 104,
     "metadata": {},
     "output_type": "execute_result"
    }
   ],
   "source": [
    "len(M33_inds),len(M31_inds),len(MW_inds)"
   ]
  },
  {
   "cell_type": "code",
   "execution_count": 82,
   "metadata": {
    "collapsed": false
   },
   "outputs": [],
   "source": [
    "def get_data(halos, host_flag, MW_inds, M31_inds, M33_inds):\n",
    "    fn = ['MW_'+nm for nm in halos.dtype.names]\n",
    "    fn1 = ['M31_'+nm for nm in halos.dtype.names]\n",
    "    fn2 = ['M33_'+nm for nm in halos.dtype.names]\n",
    "    fields = np.hstack((np.array(fn), np.array(fn1), np.array(fn2)))\n",
    "    dtype = np.dtype([(f, int if f.endswith('id') else float) for f in fields])\n",
    "    num_sys = len(MW_inds)\n",
    "    data = np.empty(num_sys, dtype)\n",
    "    no_M33_data = np.copy(halos[0])\n",
    "    for f in no_M33_data.dtype.names: no_M33_data[f]=-1\n",
    "    mw_dat = halos[host_flag[MW_M31_larger]]\n",
    "    m31_dat = halos[host_flag[M31_M31_larger]]\n",
    "    m33_dat = np.array([halos[i] if i>0 else no_M33_data for i in M33_M31_larger])\n",
    "    for i in range(len(data)):\n",
    "        data[i] = tuple(mw_dat[i])+tuple(m31_dat[i])+tuple(m33_dat[i])\n",
    "    return data"
   ]
  },
  {
   "cell_type": "code",
   "execution_count": 37,
   "metadata": {
    "collapsed": false
   },
   "outputs": [],
   "source": [
    "mw_dat = halos[host_flag[MW_M31_larger]]\n",
    "m31_dat = halos[host_flag[M31_M31_larger]]\n",
    "m33_dat = halos[M33_M31_larger]"
   ]
  },
  {
   "cell_type": "code",
   "execution_count": 65,
   "metadata": {
    "collapsed": false
   },
   "outputs": [
    {
     "data": {
      "text/plain": [
       "array((-1.0, -1, -1.0, -1, -1, -1, -1, -1, -1, -1.0, -1.0, -1.0, -1.0, -1.0, -1, -1.0, -1.0, -1.0, -1.0, -1.0, -1.0, -1.0, -1.0, -1.0, -1.0, -1.0, -1.0, -1, -1, -1, -1, -1, -1, -1, -1.0, -1.0, -1.0, -1.0, -1.0, -1.0, -1.0, -1.0), \n",
       "      dtype=[('scale', '<f8'), ('id', '<i8'), ('desc_scale', '<f8'), ('desc_id', '<i8'), ('num_prog', '<i8'), ('pid', '<i8'), ('upid', '<i8'), ('desc_pid', '<i8'), ('phantom', '<i8'), ('sam_mvir', '<f8'), ('mvir', '<f8'), ('rvir', '<f8'), ('rs', '<f8'), ('vrms', '<f8'), ('mmp?', '<i8'), ('scale_of_last_MM', '<f8'), ('vmax', '<f8'), ('x', '<f8'), ('y', '<f8'), ('z', '<f8'), ('vx', '<f8'), ('vy', '<f8'), ('vz', '<f8'), ('Jx', '<f8'), ('Jy', '<f8'), ('Jz', '<f8'), ('Spin', '<f8'), ('Breadth_first_ID', '<i8'), ('Depth_first_ID', '<i8'), ('Tree_root_ID', '<i8'), ('Orig_halo_ID', '<i8'), ('Snap_num', '<i8'), ('Next_coprogenitor_depthfirst_ID', '<i8'), ('Last_progenitor_depthfirst_ID', '<i8'), ('Macc', '<f8'), ('Mpeak', '<f8'), ('Vacc', '<f8'), ('Vpeak', '<f8'), ('Halfmass_Scale', '<f8'), ('Acc_Rate_Inst', '<f8'), ('Acc_Rate_100Myr', '<f8'), ('Acc_Rate_Tdyn', '<f8')])"
      ]
     },
     "execution_count": 65,
     "metadata": {},
     "output_type": "execute_result"
    }
   ],
   "source": [
    "no_M33_data = np.copy(halos[0])\n",
    "for f in no_M33_data.dtype.names: no_M33_data[f]=-1\n",
    "no_M33_data"
   ]
  },
  {
   "cell_type": "code",
   "execution_count": 77,
   "metadata": {
    "collapsed": false
   },
   "outputs": [],
   "source": [
    "m33_dat = np.array([halos[i] if i>0 else no_M33_data for i in M33_M31_larger])"
   ]
  },
  {
   "cell_type": "code",
   "execution_count": 39,
   "metadata": {
    "collapsed": false
   },
   "outputs": [],
   "source": [
    "fn = ['MW_'+nm for nm in halos.dtype.names]\n",
    "fn1 = ['M31_'+nm for nm in halos.dtype.names]\n",
    "fn2 = ['M33_'+nm for nm in halos.dtype.names]\n",
    "fields = np.hstack((np.array(fn), np.array(fn1), np.array(fn2)))\n",
    "dtype = np.dtype([(f, int if f.endswith('id') else float) for f in fields])\n",
    "num_sys = len(MW_M31_larger)\n",
    "data = np.empty(num_sys, dtype)"
   ]
  },
  {
   "cell_type": "code",
   "execution_count": 78,
   "metadata": {
    "collapsed": false
   },
   "outputs": [],
   "source": [
    "for i in range(len(data)):\n",
    "    data[i] = tuple(mw_dat[i])+tuple(m31_dat[i])+tuple(m33_dat[i])"
   ]
  },
  {
   "cell_type": "code",
   "execution_count": 81,
   "metadata": {
    "collapsed": false
   },
   "outputs": [
    {
     "data": {
      "text/plain": [
       "array([606844252, 606957793, 605311460, ..., 609735815, 607990729,\n",
       "       607991489])"
      ]
     },
     "execution_count": 81,
     "metadata": {},
     "output_type": "execute_result"
    }
   ],
   "source": [
    "data['M31_id']"
   ]
  },
  {
   "cell_type": "code",
   "execution_count": 83,
   "metadata": {
    "collapsed": false
   },
   "outputs": [],
   "source": [
    "dat = get_data(halos, host_flag, MW_M31_larger, M31_M31_larger, M33_M31_larger)"
   ]
  },
  {
   "cell_type": "code",
   "execution_count": 96,
   "metadata": {
    "collapsed": false
   },
   "outputs": [
    {
     "data": {
      "text/plain": [
       "array([ (1.0, 606844259, 0.0, -1, 1.0, -1, -1, -1, 0.0, 26653300000000.0, 13350000000000.0, 495.849, 54.025, 401.67, 1.0, 0.5773, 407.03, 221.37297, 96.45479, 282.2254, 158.65, -28.63, -418.32, -2746000000000.0, -87580000000000.0, 71040000000000.0, 0.07386, 41335940.0, 41335940.0, 606844259.0, 1008523.0, 118.0, 41335939.0, 41337338.0, 13350000000000.0, 26920000000000.0, 407.03, 512.64, 0.5624, -769.4, -739.5, -1005.0, 1.0, 606844252, 0.0, -1, 1.0, -1, -1, -1, 0.0, 84630000000000.0, 84630000000000.0, 917.649, 124.256, 731.36, 1.0, 0.3162, 713.08, 221.76477, 95.77451, 281.66891, 459.36, -7.69, 133.55, -1547000000000000.0, -3144000000000000.0, 351800000000000.0, 0.11874, 12229660.0, 12229660.0, 606844252.0, 1008516.0, 118.0, 12229659.0, 12234142.0, 84630000000000.0, 84630000000000.0, 713.08, 718.86, 0.4682, 6045.0, 6122.0, 2528.0, -1.0, -1, -1.0, -1, -1.0, -1, -1, -1, -1.0, -1.0, -1.0, -1.0, -1.0, -1.0, -1.0, -1.0, -1.0, -1.0, -1.0, -1.0, -1.0, -1.0, -1.0, -1.0, -1.0, -1.0, -1.0, -1.0, -1.0, -1.0, -1.0, -1.0, -1.0, -1.0, -1.0, -1.0, -1.0, -1.0, -1.0, -1.0, -1.0, -1.0),\n",
       "       (1.0, 606957801, 0.0, -1, 1.0, -1, -1, -1, 0.0, 2155000000000.0, 2102000000000.0, 267.739, 23.576, 221.53, 1.0, 0.2848, 229.62, 267.07373, 65.61007, 410.64505, 178.24, -127.55, 35.75, -4367000000000.0, -98990000000.0, 1732000000000.0, 0.0653, 89610536.0, 89610536.0, 606957801.0, 278525.0, 118.0, 89610535.0, 89610769.0, 2102000000000.0, 2158000000000.0, 229.62, 256.53, 0.3421, 65.95, 56.05, -21.89, 1.0, 606957793, 0.0, -1, 2.0, -1, -1, -1, 0.0, 76436700000000.0, 76300000000000.0, 886.498, 116.699, 713.78, 1.0, 0.6083, 692.6, 267.50497, 64.81881, 411.01257, 309.17, 448.6, 401.55, 188600000000000.0, 717900000000000.0, 1992000000000000.0, 0.07235, 13383055.0, 13383055.0, 606957793.0, 278517.0, 118.0, 13383054.0, 13388081.0, 76300000000000.0, 76510000000000.0, 692.6, 759.97, 0.5926, -2198.0, -2010.0, 2525.0, -1.0, -1, -1.0, -1, -1.0, -1, -1, -1, -1.0, -1.0, -1.0, -1.0, -1.0, -1.0, -1.0, -1.0, -1.0, -1.0, -1.0, -1.0, -1.0, -1.0, -1.0, -1.0, -1.0, -1.0, -1.0, -1.0, -1.0, -1.0, -1.0, -1.0, -1.0, -1.0, -1.0, -1.0, -1.0, -1.0, -1.0, -1.0, -1.0, -1.0),\n",
       "       (1.0, 605311428, 0.0, -1, 1.0, -1, -1, -1, 0.0, 31140000000000.0, 27040000000000.0, 627.32, 79.059, 516.53, 1.0, 0.4329, 494.27, 176.34062, 35.73294, 413.30975, -243.8, 512.15, 133.08, -331600000000000.0, -151400000000000.0, -151500000000000.0, 0.09835, 28173534.0, 28173534.0, 605311428.0, 17978.0, 118.0, 28173533.0, 28175313.0, 27040000000000.0, 31220000000000.0, 494.27, 520.87, 0.4807, -6595.0, -6612.0, 277.6, 1.0, 605311460, 0.0, -1, 1.0, -1, -1, -1, 0.0, 67890000000000.0, 67890000000000.0, 852.653, 394.089, 638.16, 1.0, 0.8111, 585.27, 176.30295, 36.61116, 413.39505, -74.18, -185.69, 191.82, 1375000000000000.0, -621400000000000.0, -1198000000000000.0, 0.07343, 14662912.0, 14662912.0, 605311460.0, 18010.0, 118.0, 14662911.0, 14665689.0, 67890000000000.0, 67890000000000.0, 585.27, 679.42, 0.8111, 42100.0, 40410.0, 10020.0, -1.0, -1, -1.0, -1, -1.0, -1, -1, -1, -1.0, -1.0, -1.0, -1.0, -1.0, -1.0, -1.0, -1.0, -1.0, -1.0, -1.0, -1.0, -1.0, -1.0, -1.0, -1.0, -1.0, -1.0, -1.0, -1.0, -1.0, -1.0, -1.0, -1.0, -1.0, -1.0, -1.0, -1.0, -1.0, -1.0, -1.0, -1.0, -1.0, -1.0)], \n",
       "      dtype=[('MW_scale', '<f8'), ('MW_id', '<i8'), ('MW_desc_scale', '<f8'), ('MW_desc_id', '<i8'), ('MW_num_prog', '<f8'), ('MW_pid', '<i8'), ('MW_upid', '<i8'), ('MW_desc_pid', '<i8'), ('MW_phantom', '<f8'), ('MW_sam_mvir', '<f8'), ('MW_mvir', '<f8'), ('MW_rvir', '<f8'), ('MW_rs', '<f8'), ('MW_vrms', '<f8'), ('MW_mmp?', '<f8'), ('MW_scale_of_last_MM', '<f8'), ('MW_vmax', '<f8'), ('MW_x', '<f8'), ('MW_y', '<f8'), ('MW_z', '<f8'), ('MW_vx', '<f8'), ('MW_vy', '<f8'), ('MW_vz', '<f8'), ('MW_Jx', '<f8'), ('MW_Jy', '<f8'), ('MW_Jz', '<f8'), ('MW_Spin', '<f8'), ('MW_Breadth_first_ID', '<f8'), ('MW_Depth_first_ID', '<f8'), ('MW_Tree_root_ID', '<f8'), ('MW_Orig_halo_ID', '<f8'), ('MW_Snap_num', '<f8'), ('MW_Next_coprogenitor_depthfirst_ID', '<f8'), ('MW_Last_progenitor_depthfirst_ID', '<f8'), ('MW_Macc', '<f8'), ('MW_Mpeak', '<f8'), ('MW_Vacc', '<f8'), ('MW_Vpeak', '<f8'), ('MW_Halfmass_Scale', '<f8'), ('MW_Acc_Rate_Inst', '<f8'), ('MW_Acc_Rate_100Myr', '<f8'), ('MW_Acc_Rate_Tdyn', '<f8'), ('M31_scale', '<f8'), ('M31_id', '<i8'), ('M31_desc_scale', '<f8'), ('M31_desc_id', '<i8'), ('M31_num_prog', '<f8'), ('M31_pid', '<i8'), ('M31_upid', '<i8'), ('M31_desc_pid', '<i8'), ('M31_phantom', '<f8'), ('M31_sam_mvir', '<f8'), ('M31_mvir', '<f8'), ('M31_rvir', '<f8'), ('M31_rs', '<f8'), ('M31_vrms', '<f8'), ('M31_mmp?', '<f8'), ('M31_scale_of_last_MM', '<f8'), ('M31_vmax', '<f8'), ('M31_x', '<f8'), ('M31_y', '<f8'), ('M31_z', '<f8'), ('M31_vx', '<f8'), ('M31_vy', '<f8'), ('M31_vz', '<f8'), ('M31_Jx', '<f8'), ('M31_Jy', '<f8'), ('M31_Jz', '<f8'), ('M31_Spin', '<f8'), ('M31_Breadth_first_ID', '<f8'), ('M31_Depth_first_ID', '<f8'), ('M31_Tree_root_ID', '<f8'), ('M31_Orig_halo_ID', '<f8'), ('M31_Snap_num', '<f8'), ('M31_Next_coprogenitor_depthfirst_ID', '<f8'), ('M31_Last_progenitor_depthfirst_ID', '<f8'), ('M31_Macc', '<f8'), ('M31_Mpeak', '<f8'), ('M31_Vacc', '<f8'), ('M31_Vpeak', '<f8'), ('M31_Halfmass_Scale', '<f8'), ('M31_Acc_Rate_Inst', '<f8'), ('M31_Acc_Rate_100Myr', '<f8'), ('M31_Acc_Rate_Tdyn', '<f8'), ('M33_scale', '<f8'), ('M33_id', '<i8'), ('M33_desc_scale', '<f8'), ('M33_desc_id', '<i8'), ('M33_num_prog', '<f8'), ('M33_pid', '<i8'), ('M33_upid', '<i8'), ('M33_desc_pid', '<i8'), ('M33_phantom', '<f8'), ('M33_sam_mvir', '<f8'), ('M33_mvir', '<f8'), ('M33_rvir', '<f8'), ('M33_rs', '<f8'), ('M33_vrms', '<f8'), ('M33_mmp?', '<f8'), ('M33_scale_of_last_MM', '<f8'), ('M33_vmax', '<f8'), ('M33_x', '<f8'), ('M33_y', '<f8'), ('M33_z', '<f8'), ('M33_vx', '<f8'), ('M33_vy', '<f8'), ('M33_vz', '<f8'), ('M33_Jx', '<f8'), ('M33_Jy', '<f8'), ('M33_Jz', '<f8'), ('M33_Spin', '<f8'), ('M33_Breadth_first_ID', '<f8'), ('M33_Depth_first_ID', '<f8'), ('M33_Tree_root_ID', '<f8'), ('M33_Orig_halo_ID', '<f8'), ('M33_Snap_num', '<f8'), ('M33_Next_coprogenitor_depthfirst_ID', '<f8'), ('M33_Last_progenitor_depthfirst_ID', '<f8'), ('M33_Macc', '<f8'), ('M33_Mpeak', '<f8'), ('M33_Vacc', '<f8'), ('M33_Vpeak', '<f8'), ('M33_Halfmass_Scale', '<f8'), ('M33_Acc_Rate_Inst', '<f8'), ('M33_Acc_Rate_100Myr', '<f8'), ('M33_Acc_Rate_Tdyn', '<f8')])"
      ]
     },
     "execution_count": 96,
     "metadata": {},
     "output_type": "execute_result"
    }
   ],
   "source": [
    "t = np.copy(dat[0:3])\n",
    "u = np.copy(dat[0:3])\n",
    "t"
   ]
  },
  {
   "cell_type": "code",
   "execution_count": 97,
   "metadata": {
    "collapsed": false
   },
   "outputs": [
    {
     "data": {
      "text/plain": [
       "array([ (1.0, 606957801, 0.0, -1, 1.0, -1, -1, -1, 0.0, 2155000000000.0, 2102000000000.0, 267.739, 23.576, 221.53, 1.0, 0.2848, 229.62, 267.07373, 65.61007, 410.64505, 178.24, -127.55, 35.75, -4367000000000.0, -98990000000.0, 1732000000000.0, 0.0653, 89610536.0, 89610536.0, 606957801.0, 278525.0, 118.0, 89610535.0, 89610769.0, 2102000000000.0, 2158000000000.0, 229.62, 256.53, 0.3421, 65.95, 56.05, -21.89, 1.0, 606957793, 0.0, -1, 2.0, -1, -1, -1, 0.0, 76436700000000.0, 76300000000000.0, 886.498, 116.699, 713.78, 1.0, 0.6083, 692.6, 267.50497, 64.81881, 411.01257, 309.17, 448.6, 401.55, 188600000000000.0, 717900000000000.0, 1992000000000000.0, 0.07235, 13383055.0, 13383055.0, 606957793.0, 278517.0, 118.0, 13383054.0, 13388081.0, 76300000000000.0, 76510000000000.0, 692.6, 759.97, 0.5926, -2198.0, -2010.0, 2525.0, -1.0, -1, -1.0, -1, -1.0, -1, -1, -1, -1.0, -1.0, -1.0, -1.0, -1.0, -1.0, -1.0, -1.0, -1.0, -1.0, -1.0, -1.0, -1.0, -1.0, -1.0, -1.0, -1.0, -1.0, -1.0, -1.0, -1.0, -1.0, -1.0, -1.0, -1.0, -1.0, -1.0, -1.0, -1.0, -1.0, -1.0, -1.0, -1.0, -1.0),\n",
       "       (1.0, 606844259, 0.0, -1, 1.0, -1, -1, -1, 0.0, 26653300000000.0, 13350000000000.0, 495.849, 54.025, 401.67, 1.0, 0.5773, 407.03, 221.37297, 96.45479, 282.2254, 158.65, -28.63, -418.32, -2746000000000.0, -87580000000000.0, 71040000000000.0, 0.07386, 41335940.0, 41335940.0, 606844259.0, 1008523.0, 118.0, 41335939.0, 41337338.0, 13350000000000.0, 26920000000000.0, 407.03, 512.64, 0.5624, -769.4, -739.5, -1005.0, 1.0, 606844252, 0.0, -1, 1.0, -1, -1, -1, 0.0, 84630000000000.0, 84630000000000.0, 917.649, 124.256, 731.36, 1.0, 0.3162, 713.08, 221.76477, 95.77451, 281.66891, 459.36, -7.69, 133.55, -1547000000000000.0, -3144000000000000.0, 351800000000000.0, 0.11874, 12229660.0, 12229660.0, 606844252.0, 1008516.0, 118.0, 12229659.0, 12234142.0, 84630000000000.0, 84630000000000.0, 713.08, 718.86, 0.4682, 6045.0, 6122.0, 2528.0, -1.0, -1, -1.0, -1, -1.0, -1, -1, -1, -1.0, -1.0, -1.0, -1.0, -1.0, -1.0, -1.0, -1.0, -1.0, -1.0, -1.0, -1.0, -1.0, -1.0, -1.0, -1.0, -1.0, -1.0, -1.0, -1.0, -1.0, -1.0, -1.0, -1.0, -1.0, -1.0, -1.0, -1.0, -1.0, -1.0, -1.0, -1.0, -1.0, -1.0),\n",
       "       (1.0, 605311428, 0.0, -1, 1.0, -1, -1, -1, 0.0, 31140000000000.0, 27040000000000.0, 627.32, 79.059, 516.53, 1.0, 0.4329, 494.27, 176.34062, 35.73294, 413.30975, -243.8, 512.15, 133.08, -331600000000000.0, -151400000000000.0, -151500000000000.0, 0.09835, 28173534.0, 28173534.0, 605311428.0, 17978.0, 118.0, 28173533.0, 28175313.0, 27040000000000.0, 31220000000000.0, 494.27, 520.87, 0.4807, -6595.0, -6612.0, 277.6, 1.0, 605311460, 0.0, -1, 1.0, -1, -1, -1, 0.0, 67890000000000.0, 67890000000000.0, 852.653, 394.089, 638.16, 1.0, 0.8111, 585.27, 176.30295, 36.61116, 413.39505, -74.18, -185.69, 191.82, 1375000000000000.0, -621400000000000.0, -1198000000000000.0, 0.07343, 14662912.0, 14662912.0, 605311460.0, 18010.0, 118.0, 14662911.0, 14665689.0, 67890000000000.0, 67890000000000.0, 585.27, 679.42, 0.8111, 42100.0, 40410.0, 10020.0, -1.0, -1, -1.0, -1, -1.0, -1, -1, -1, -1.0, -1.0, -1.0, -1.0, -1.0, -1.0, -1.0, -1.0, -1.0, -1.0, -1.0, -1.0, -1.0, -1.0, -1.0, -1.0, -1.0, -1.0, -1.0, -1.0, -1.0, -1.0, -1.0, -1.0, -1.0, -1.0, -1.0, -1.0, -1.0, -1.0, -1.0, -1.0, -1.0, -1.0)], \n",
       "      dtype=[('MW_scale', '<f8'), ('MW_id', '<i8'), ('MW_desc_scale', '<f8'), ('MW_desc_id', '<i8'), ('MW_num_prog', '<f8'), ('MW_pid', '<i8'), ('MW_upid', '<i8'), ('MW_desc_pid', '<i8'), ('MW_phantom', '<f8'), ('MW_sam_mvir', '<f8'), ('MW_mvir', '<f8'), ('MW_rvir', '<f8'), ('MW_rs', '<f8'), ('MW_vrms', '<f8'), ('MW_mmp?', '<f8'), ('MW_scale_of_last_MM', '<f8'), ('MW_vmax', '<f8'), ('MW_x', '<f8'), ('MW_y', '<f8'), ('MW_z', '<f8'), ('MW_vx', '<f8'), ('MW_vy', '<f8'), ('MW_vz', '<f8'), ('MW_Jx', '<f8'), ('MW_Jy', '<f8'), ('MW_Jz', '<f8'), ('MW_Spin', '<f8'), ('MW_Breadth_first_ID', '<f8'), ('MW_Depth_first_ID', '<f8'), ('MW_Tree_root_ID', '<f8'), ('MW_Orig_halo_ID', '<f8'), ('MW_Snap_num', '<f8'), ('MW_Next_coprogenitor_depthfirst_ID', '<f8'), ('MW_Last_progenitor_depthfirst_ID', '<f8'), ('MW_Macc', '<f8'), ('MW_Mpeak', '<f8'), ('MW_Vacc', '<f8'), ('MW_Vpeak', '<f8'), ('MW_Halfmass_Scale', '<f8'), ('MW_Acc_Rate_Inst', '<f8'), ('MW_Acc_Rate_100Myr', '<f8'), ('MW_Acc_Rate_Tdyn', '<f8'), ('M31_scale', '<f8'), ('M31_id', '<i8'), ('M31_desc_scale', '<f8'), ('M31_desc_id', '<i8'), ('M31_num_prog', '<f8'), ('M31_pid', '<i8'), ('M31_upid', '<i8'), ('M31_desc_pid', '<i8'), ('M31_phantom', '<f8'), ('M31_sam_mvir', '<f8'), ('M31_mvir', '<f8'), ('M31_rvir', '<f8'), ('M31_rs', '<f8'), ('M31_vrms', '<f8'), ('M31_mmp?', '<f8'), ('M31_scale_of_last_MM', '<f8'), ('M31_vmax', '<f8'), ('M31_x', '<f8'), ('M31_y', '<f8'), ('M31_z', '<f8'), ('M31_vx', '<f8'), ('M31_vy', '<f8'), ('M31_vz', '<f8'), ('M31_Jx', '<f8'), ('M31_Jy', '<f8'), ('M31_Jz', '<f8'), ('M31_Spin', '<f8'), ('M31_Breadth_first_ID', '<f8'), ('M31_Depth_first_ID', '<f8'), ('M31_Tree_root_ID', '<f8'), ('M31_Orig_halo_ID', '<f8'), ('M31_Snap_num', '<f8'), ('M31_Next_coprogenitor_depthfirst_ID', '<f8'), ('M31_Last_progenitor_depthfirst_ID', '<f8'), ('M31_Macc', '<f8'), ('M31_Mpeak', '<f8'), ('M31_Vacc', '<f8'), ('M31_Vpeak', '<f8'), ('M31_Halfmass_Scale', '<f8'), ('M31_Acc_Rate_Inst', '<f8'), ('M31_Acc_Rate_100Myr', '<f8'), ('M31_Acc_Rate_Tdyn', '<f8'), ('M33_scale', '<f8'), ('M33_id', '<i8'), ('M33_desc_scale', '<f8'), ('M33_desc_id', '<i8'), ('M33_num_prog', '<f8'), ('M33_pid', '<i8'), ('M33_upid', '<i8'), ('M33_desc_pid', '<i8'), ('M33_phantom', '<f8'), ('M33_sam_mvir', '<f8'), ('M33_mvir', '<f8'), ('M33_rvir', '<f8'), ('M33_rs', '<f8'), ('M33_vrms', '<f8'), ('M33_mmp?', '<f8'), ('M33_scale_of_last_MM', '<f8'), ('M33_vmax', '<f8'), ('M33_x', '<f8'), ('M33_y', '<f8'), ('M33_z', '<f8'), ('M33_vx', '<f8'), ('M33_vy', '<f8'), ('M33_vz', '<f8'), ('M33_Jx', '<f8'), ('M33_Jy', '<f8'), ('M33_Jz', '<f8'), ('M33_Spin', '<f8'), ('M33_Breadth_first_ID', '<f8'), ('M33_Depth_first_ID', '<f8'), ('M33_Tree_root_ID', '<f8'), ('M33_Orig_halo_ID', '<f8'), ('M33_Snap_num', '<f8'), ('M33_Next_coprogenitor_depthfirst_ID', '<f8'), ('M33_Last_progenitor_depthfirst_ID', '<f8'), ('M33_Macc', '<f8'), ('M33_Mpeak', '<f8'), ('M33_Vacc', '<f8'), ('M33_Vpeak', '<f8'), ('M33_Halfmass_Scale', '<f8'), ('M33_Acc_Rate_Inst', '<f8'), ('M33_Acc_Rate_100Myr', '<f8'), ('M33_Acc_Rate_Tdyn', '<f8')])"
      ]
     },
     "execution_count": 97,
     "metadata": {},
     "output_type": "execute_result"
    }
   ],
   "source": [
    "np.random.shuffle(u)\n",
    "u"
   ]
  },
  {
   "cell_type": "code",
   "execution_count": 199,
   "metadata": {
    "collapsed": false
   },
   "outputs": [
    {
     "data": {
      "text/plain": [
       "68"
      ]
     },
     "execution_count": 199,
     "metadata": {},
     "output_type": "execute_result"
    }
   ],
   "source": [
    "M33_inds.index(977)"
   ]
  },
  {
   "cell_type": "code",
   "execution_count": 202,
   "metadata": {
    "collapsed": false
   },
   "outputs": [
    {
     "data": {
      "text/plain": [
       "(1.0, 604562582, 0.0, -1, 1, -1, -1, -1, 0, 9712000000000.0, 9712000000000.0, 445.932, 106.416, 342.01, 1, 0.3421, 318.06, 13.88385, 352.27481, 25.54296, -368.93, -245.38, -22.94, 73350000000000.0, -134400000000000.0, -38090000000000.0, 0.15966, 48281764, 48281764, 604562582, 265336, 118, 48281763, 48282186, 9712000000000.0, 9712000000000.0, 318.06, 341.4, 0.5926, 681.4, 700.9, 1162.0)"
      ]
     },
     "execution_count": 202,
     "metadata": {},
     "output_type": "execute_result"
    }
   ],
   "source": [
    "hosts[4568]"
   ]
  },
  {
   "cell_type": "code",
   "execution_count": 207,
   "metadata": {
    "collapsed": false
   },
   "outputs": [
    {
     "data": {
      "text/plain": [
       "607898845"
      ]
     },
     "execution_count": 207,
     "metadata": {},
     "output_type": "execute_result"
    }
   ],
   "source": [
    "dat[0]['MWid']"
   ]
  },
  {
   "cell_type": "code",
   "execution_count": 118,
   "metadata": {
    "collapsed": false
   },
   "outputs": [
    {
     "data": {
      "text/plain": [
       "array([-1., -1., -1., -1., -1., -1., -1., -1., -1., -1., -1.])"
      ]
     },
     "execution_count": 118,
     "metadata": {},
     "output_type": "execute_result"
    }
   ],
   "source": [
    "-1*np.ones(11)"
   ]
  },
  {
   "cell_type": "code",
   "execution_count": 125,
   "metadata": {
    "collapsed": false
   },
   "outputs": [
    {
     "data": {
      "text/plain": [
       "(1.0, 606949868, 0.0, -1, 7, -1, -1, -1, 0, 519300000000000.0, 519300000000000.0, 1679.949, 325.19, 1340.86, 1, 0.5478, 1230.37, 215.5239, 67.77184, 395.20154, 139.05, 214.51, 267.84, -1.262e+16, 6145000000000000.0, 1.634e+16, 0.028, 1119673, 1119673, 606949868, 270592, 118, 1119672, 1137446, 519300000000000.0, 519300000000000.0, 1230.37, 1373.4, 0.5773, 60450.0, 60920.0, 58610.0)"
      ]
     },
     "execution_count": 125,
     "metadata": {},
     "output_type": "execute_result"
    }
   ],
   "source": [
    "hosts[0]"
   ]
  },
  {
   "cell_type": "code",
   "execution_count": 136,
   "metadata": {
    "collapsed": false
   },
   "outputs": [
    {
     "data": {
      "text/plain": [
       "dtype([('scale', '<f8'), ('id', '<i8'), ('desc_scale', '<f8'), ('desc_id', '<i8'), ('num_prog', '<i8'), ('pid', '<i8'), ('upid', '<i8'), ('desc_pid', '<i8'), ('phantom', '<i8'), ('sam_mvir', '<f8'), ('mvir', '<f8'), ('rvir', '<f8'), ('rs', '<f8'), ('vrms', '<f8'), ('mmp?', '<i8'), ('scale_of_last_MM', '<f8'), ('vmax', '<f8'), ('x', '<f8'), ('y', '<f8'), ('z', '<f8'), ('vx', '<f8'), ('vy', '<f8'), ('vz', '<f8'), ('Jx', '<f8'), ('Jy', '<f8'), ('Jz', '<f8'), ('Spin', '<f8'), ('Breadth_first_ID', '<i8'), ('Depth_first_ID', '<i8'), ('Tree_root_ID', '<i8'), ('Orig_halo_ID', '<i8'), ('Snap_num', '<i8'), ('Next_coprogenitor_depthfirst_ID', '<i8'), ('Last_progenitor_depthfirst_ID', '<i8'), ('Macc', '<f8'), ('Mpeak', '<f8'), ('Vacc', '<f8'), ('Vpeak', '<f8'), ('Halfmass_Scale', '<f8'), ('Acc_Rate_Inst', '<f8'), ('Acc_Rate_100Myr', '<f8'), ('Acc_Rate_Tdyn', '<f8')])"
      ]
     },
     "execution_count": 136,
     "metadata": {},
     "output_type": "execute_result"
    }
   ],
   "source": [
    "hosts.dtype"
   ]
  },
  {
   "cell_type": "code",
   "execution_count": 141,
   "metadata": {
    "collapsed": false
   },
   "outputs": [
    {
     "data": {
      "text/plain": [
       "('scale',\n",
       " 'id',\n",
       " 'desc_scale',\n",
       " 'desc_id',\n",
       " 'num_prog',\n",
       " 'pid',\n",
       " 'upid',\n",
       " 'desc_pid',\n",
       " 'phantom',\n",
       " 'sam_mvir',\n",
       " 'mvir',\n",
       " 'rvir',\n",
       " 'rs',\n",
       " 'vrms',\n",
       " 'mmp?',\n",
       " 'scale_of_last_MM',\n",
       " 'vmax',\n",
       " 'x',\n",
       " 'y',\n",
       " 'z',\n",
       " 'vx',\n",
       " 'vy',\n",
       " 'vz',\n",
       " 'Jx',\n",
       " 'Jy',\n",
       " 'Jz',\n",
       " 'Spin',\n",
       " 'Breadth_first_ID',\n",
       " 'Depth_first_ID',\n",
       " 'Tree_root_ID',\n",
       " 'Orig_halo_ID',\n",
       " 'Snap_num',\n",
       " 'Next_coprogenitor_depthfirst_ID',\n",
       " 'Last_progenitor_depthfirst_ID',\n",
       " 'Macc',\n",
       " 'Mpeak',\n",
       " 'Vacc',\n",
       " 'Vpeak',\n",
       " 'Halfmass_Scale',\n",
       " 'Acc_Rate_Inst',\n",
       " 'Acc_Rate_100Myr',\n",
       " 'Acc_Rate_Tdyn')"
      ]
     },
     "execution_count": 141,
     "metadata": {},
     "output_type": "execute_result"
    }
   ],
   "source": [
    "hosts.dtype.names"
   ]
  },
  {
   "cell_type": "code",
   "execution_count": 186,
   "metadata": {
    "collapsed": false
   },
   "outputs": [],
   "source": [
    "fn = ['MW'+nm for nm in hosts.dtype.names]\n",
    "fn1 = ['M31'+nm for nm in hosts.dtype.names]\n",
    "fn2 = ['M33'+nm for nm in hosts.dtype.names]"
   ]
  },
  {
   "cell_type": "code",
   "execution_count": 188,
   "metadata": {
    "collapsed": false
   },
   "outputs": [
    {
     "data": {
      "text/plain": [
       "array(['MWscale', 'MWid', 'MWdesc_scale', 'MWdesc_id', 'MWnum_prog',\n",
       "       'MWpid', 'MWupid', 'MWdesc_pid', 'MWphantom', 'MWsam_mvir',\n",
       "       'MWmvir', 'MWrvir', 'MWrs', 'MWvrms', 'MWmmp?',\n",
       "       'MWscale_of_last_MM', 'MWvmax', 'MWx', 'MWy', 'MWz', 'MWvx', 'MWvy',\n",
       "       'MWvz', 'MWJx', 'MWJy', 'MWJz', 'MWSpin', 'MWBreadth_first_ID',\n",
       "       'MWDepth_first_ID', 'MWTree_root_ID', 'MWOrig_halo_ID',\n",
       "       'MWSnap_num', 'MWNext_coprogenitor_depthfirst_ID',\n",
       "       'MWLast_progenitor_depthfirst_ID', 'MWMacc', 'MWMpeak', 'MWVacc',\n",
       "       'MWVpeak', 'MWHalfmass_Scale', 'MWAcc_Rate_Inst',\n",
       "       'MWAcc_Rate_100Myr', 'MWAcc_Rate_Tdyn', 'M31scale', 'M31id',\n",
       "       'M31desc_scale', 'M31desc_id', 'M31num_prog', 'M31pid', 'M31upid',\n",
       "       'M31desc_pid', 'M31phantom', 'M31sam_mvir', 'M31mvir', 'M31rvir',\n",
       "       'M31rs', 'M31vrms', 'M31mmp?', 'M31scale_of_last_MM', 'M31vmax',\n",
       "       'M31x', 'M31y', 'M31z', 'M31vx', 'M31vy', 'M31vz', 'M31Jx', 'M31Jy',\n",
       "       'M31Jz', 'M31Spin', 'M31Breadth_first_ID', 'M31Depth_first_ID',\n",
       "       'M31Tree_root_ID', 'M31Orig_halo_ID', 'M31Snap_num',\n",
       "       'M31Next_coprogenitor_depthfirst_ID',\n",
       "       'M31Last_progenitor_depthfirst_ID', 'M31Macc', 'M31Mpeak',\n",
       "       'M31Vacc', 'M31Vpeak', 'M31Halfmass_Scale', 'M31Acc_Rate_Inst',\n",
       "       'M31Acc_Rate_100Myr', 'M31Acc_Rate_Tdyn', 'M33scale', 'M33id',\n",
       "       'M33desc_scale', 'M33desc_id', 'M33num_prog', 'M33pid', 'M33upid',\n",
       "       'M33desc_pid', 'M33phantom', 'M33sam_mvir', 'M33mvir', 'M33rvir',\n",
       "       'M33rs', 'M33vrms', 'M33mmp?', 'M33scale_of_last_MM', 'M33vmax',\n",
       "       'M33x', 'M33y', 'M33z', 'M33vx', 'M33vy', 'M33vz', 'M33Jx', 'M33Jy',\n",
       "       'M33Jz', 'M33Spin', 'M33Breadth_first_ID', 'M33Depth_first_ID',\n",
       "       'M33Tree_root_ID', 'M33Orig_halo_ID', 'M33Snap_num',\n",
       "       'M33Next_coprogenitor_depthfirst_ID',\n",
       "       'M33Last_progenitor_depthfirst_ID', 'M33Macc', 'M33Mpeak',\n",
       "       'M33Vacc', 'M33Vpeak', 'M33Halfmass_Scale', 'M33Acc_Rate_Inst',\n",
       "       'M33Acc_Rate_100Myr', 'M33Acc_Rate_Tdyn'], \n",
       "      dtype='|S34')"
      ]
     },
     "execution_count": 188,
     "metadata": {},
     "output_type": "execute_result"
    }
   ],
   "source": [
    "np.hstack((np.array(fn), np.array(fn1), np.array(fn2)))"
   ]
  },
  {
   "cell_type": "code",
   "execution_count": 185,
   "metadata": {
    "collapsed": false
   },
   "outputs": [
    {
     "data": {
      "text/plain": [
       "array(['MWscale', 'MWid', 'MWdesc_scale', 'MWdesc_id', 'MWnum_prog',\n",
       "       'MWpid', 'MWupid', 'MWdesc_pid', 'MWphantom', 'MWsam_mvir',\n",
       "       'MWmvir', 'MWrvir', 'MWrs', 'MWvrms', 'MWmmp?',\n",
       "       'MWscale_of_last_MM', 'MWvmax', 'MWx', 'MWy', 'MWz', 'MWvx', 'MWvy',\n",
       "       'MWvz', 'MWJx', 'MWJy', 'MWJz', 'MWSpin', 'MWBreadth_first_ID',\n",
       "       'MWDepth_first_ID', 'MWTree_root_ID', 'MWOrig_halo_ID',\n",
       "       'MWSnap_num', 'MWNext_coprogenitor_depthfirst_ID',\n",
       "       'MWLast_progenitor_depthfirst_ID', 'MWMacc', 'MWMpeak', 'MWVacc',\n",
       "       'MWVpeak', 'MWHalfmass_Scale', 'MWAcc_Rate_Inst',\n",
       "       'MWAcc_Rate_100Myr', 'MWAcc_Rate_Tdyn'], \n",
       "      dtype='|S33')"
      ]
     },
     "execution_count": 185,
     "metadata": {},
     "output_type": "execute_result"
    }
   ],
   "source": [
    "np.array(fn).flatten()"
   ]
  },
  {
   "cell_type": "code",
   "execution_count": 162,
   "metadata": {
    "collapsed": true
   },
   "outputs": [],
   "source": [
    "t = np.copy(hosts[0])"
   ]
  },
  {
   "cell_type": "code",
   "execution_count": 169,
   "metadata": {
    "collapsed": false
   },
   "outputs": [],
   "source": [
    "for f in t.dtype.names: t[f]=-1"
   ]
  },
  {
   "cell_type": "code",
   "execution_count": 171,
   "metadata": {
    "collapsed": false
   },
   "outputs": [
    {
     "data": {
      "text/plain": [
       "array((-1.0, -1, -1.0, -1, -1, -1, -1, -1, -1, -1.0, -1.0, -1.0, -1.0, -1.0, -1, -1.0, -1.0, -1.0, -1.0, -1.0, -1.0, -1.0, -1.0, -1.0, -1.0, -1.0, -1.0, -1, -1, -1, -1, -1, -1, -1, -1.0, -1.0, -1.0, -1.0, -1.0, -1.0, -1.0, -1.0), \n",
       "      dtype=[('scale', '<f8'), ('id', '<i8'), ('desc_scale', '<f8'), ('desc_id', '<i8'), ('num_prog', '<i8'), ('pid', '<i8'), ('upid', '<i8'), ('desc_pid', '<i8'), ('phantom', '<i8'), ('sam_mvir', '<f8'), ('mvir', '<f8'), ('rvir', '<f8'), ('rs', '<f8'), ('vrms', '<f8'), ('mmp?', '<i8'), ('scale_of_last_MM', '<f8'), ('vmax', '<f8'), ('x', '<f8'), ('y', '<f8'), ('z', '<f8'), ('vx', '<f8'), ('vy', '<f8'), ('vz', '<f8'), ('Jx', '<f8'), ('Jy', '<f8'), ('Jz', '<f8'), ('Spin', '<f8'), ('Breadth_first_ID', '<i8'), ('Depth_first_ID', '<i8'), ('Tree_root_ID', '<i8'), ('Orig_halo_ID', '<i8'), ('Snap_num', '<i8'), ('Next_coprogenitor_depthfirst_ID', '<i8'), ('Last_progenitor_depthfirst_ID', '<i8'), ('Macc', '<f8'), ('Mpeak', '<f8'), ('Vacc', '<f8'), ('Vpeak', '<f8'), ('Halfmass_Scale', '<f8'), ('Acc_Rate_Inst', '<f8'), ('Acc_Rate_100Myr', '<f8'), ('Acc_Rate_Tdyn', '<f8')])"
      ]
     },
     "execution_count": 171,
     "metadata": {},
     "output_type": "execute_result"
    }
   ],
   "source": [
    "t"
   ]
  },
  {
   "cell_type": "code",
   "execution_count": 208,
   "metadata": {
    "collapsed": true
   },
   "outputs": [],
   "source": [
    "def sq(x):\n",
    "    return x**2"
   ]
  },
  {
   "cell_type": "code",
   "execution_count": 209,
   "metadata": {
    "collapsed": false
   },
   "outputs": [
    {
     "data": {
      "text/plain": [
       "2.25"
      ]
     },
     "execution_count": 209,
     "metadata": {},
     "output_type": "execute_result"
    }
   ],
   "source": [
    "sq(3.0/2)"
   ]
  },
  {
   "cell_type": "code",
   "execution_count": 6,
   "metadata": {
    "collapsed": true
   },
   "outputs": [],
   "source": [
    "a = np.array([1,2,3,4,5,6])"
   ]
  },
  {
   "cell_type": "code",
   "execution_count": 8,
   "metadata": {
    "collapsed": false
   },
   "outputs": [
    {
     "data": {
      "text/plain": [
       "array([1, 2, 4, 5, 6])"
      ]
     },
     "execution_count": 8,
     "metadata": {},
     "output_type": "execute_result"
    }
   ],
   "source": [
    "a"
   ]
  },
  {
   "cell_type": "code",
   "execution_count": 15,
   "metadata": {
    "collapsed": false
   },
   "outputs": [
    {
     "data": {
      "text/plain": [
       "606949868"
      ]
     },
     "execution_count": 15,
     "metadata": {},
     "output_type": "execute_result"
    }
   ],
   "source": [
    "halos[host_flag][0]['id']"
   ]
  },
  {
   "cell_type": "code",
   "execution_count": null,
   "metadata": {
    "collapsed": true
   },
   "outputs": [],
   "source": []
  }
 ],
 "metadata": {
  "kernelspec": {
   "display_name": "Python 2",
   "language": "python",
   "name": "python2"
  },
  "language_info": {
   "codemirror_mode": {
    "name": "ipython",
    "version": 2
   },
   "file_extension": ".py",
   "mimetype": "text/x-python",
   "name": "python",
   "nbconvert_exporter": "python",
   "pygments_lexer": "ipython2",
   "version": "2.7.3"
  }
 },
 "nbformat": 4,
 "nbformat_minor": 0
}
