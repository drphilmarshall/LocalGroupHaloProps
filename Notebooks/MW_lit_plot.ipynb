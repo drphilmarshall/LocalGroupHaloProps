{
 "cells": [
  {
   "cell_type": "code",
   "execution_count": 1,
   "metadata": {
    "collapsed": true
   },
   "outputs": [],
   "source": [
    "import matplotlib as plt\n",
    "%matplotlib inline"
   ]
  },
  {
   "cell_type": "code",
   "execution_count": 2,
   "metadata": {
    "collapsed": true
   },
   "outputs": [],
   "source": [
    "def make_mw_lit_plot(ax, dat):\n",
    "    labels_leg = []\n",
    "    labels = []\n",
    "    yticks = []\n",
    "    colors = []\n",
    "    leg = []\n",
    "    for line in dat:\n",
    "        labels_leg.append(line[0])\n",
    "        labels.append(line[7])\n",
    "        x = [line[1]]\n",
    "        y = [line[2]]\n",
    "        yticks.append(line[2])\n",
    "        xerr = [[line[3]], [line[4]]]\n",
    "        fmt = line[5]\n",
    "        ecolor = line[6]\n",
    "        color = line[6]\n",
    "        leg.append(ax.errorbar(x=x, y=y, xerr=xerr, fmt=fmt, ecolor=ecolor, color=color))\n",
    "    ax.set_yticks(yticks)\n",
    "    ax.set_yticklabels(labels)\n",
    "    ax.set_xlim((0,6))\n",
    "    ax.set_ylim((3,10))\n",
    "    return labels_leg, leg"
   ]
  },
  {
   "cell_type": "code",
   "execution_count": 3,
   "metadata": {
    "collapsed": false
   },
   "outputs": [],
   "source": [
    "# label, x, y, xerrlo, xerrhi, fmt, color\n",
    "num = 8\n",
    "dat = [[\"Williamson 15\", .5, num+1, .25, .47, 'o', 'magenta', 'Triplets'],[\"Williamson 15\", .6, num, .25, .32, 'o', 'magenta', 'Pairs'],[\"Busha 11\", 1.0, num-1, .48, .67, '^', 'magenta', 'Mag Cl'],\\\n",
    "       [\"Gonzalez 13\", 1.15, num-2, .26, 2.34, 'v', 'magenta', 'Mag Cl'], [\"Li&White 08\", 1.57, num-3, .2, .2, 'o', 'k', 'Timing']]"
   ]
  },
  {
   "cell_type": "code",
   "execution_count": 4,
   "metadata": {
    "collapsed": false
   },
   "outputs": [
    {
     "data": {
      "image/png": "[encoded data removed]",
      "text/plain": [
       "<matplotlib.figure.Figure at 0x2f16050>"
      ]
     },
     "metadata": {},
     "output_type": "display_data"
    }
   ],
   "source": [
    "fig = figure()\n",
    "ax = fig.gca()\n",
    "lab, leg=make_mw_lit_plot(ax, dat)"
   ]
  },
  {
   "cell_type": "code",
   "execution_count": 5,
   "metadata": {
    "collapsed": false
   },
   "outputs": [
    {
     "data": {
      "text/plain": [
       "[<matplotlib.axis.XTick at 0x3016290>,\n",
       " <matplotlib.axis.XTick at 0x3016d10>,\n",
       " <matplotlib.axis.XTick at 0x3177450>,\n",
       " <matplotlib.axis.XTick at 0x3177a10>,\n",
       " <matplotlib.axis.XTick at 0x317b190>,\n",
       " <matplotlib.axis.XTick at 0x317b8d0>,\n",
       " <matplotlib.axis.XTick at 0x317d050>,\n",
       " <matplotlib.axis.XTick at 0x2eec390>,\n",
       " <matplotlib.axis.XTick at 0x3177350>,\n",
       " <matplotlib.axis.XTick at 0x3186d10>,\n",
       " <matplotlib.axis.XTick at 0x3014ed0>,\n",
       " <matplotlib.axis.XTick at 0x3011bd0>]"
      ]
     },
     "execution_count": 5,
     "metadata": {},
     "output_type": "execute_result"
    }
   ],
   "source": [
    "ax.set_xticks(np.arange(0,6,.5))"
   ]
  },
  {
   "cell_type": "code",
   "execution_count": 6,
   "metadata": {
    "collapsed": false
   },
   "outputs": [],
   "source": [
    "for label in ax.xaxis.get_ticklabels()[::2]:\n",
    "    label.set_visible(False)"
   ]
  },
  {
   "cell_type": "code",
   "execution_count": 7,
   "metadata": {
    "collapsed": false
   },
   "outputs": [
    {
     "data": {
      "image/png": "[encoded data removed]",
      "text/plain": [
       "<matplotlib.figure.Figure at 0x2f16050>"
      ]
     },
     "execution_count": 7,
     "metadata": {},
     "output_type": "execute_result"
    }
   ],
   "source": [
    "fig"
   ]
  },
  {
   "cell_type": "code",
   "execution_count": 8,
   "metadata": {
    "collapsed": false
   },
   "outputs": [
    {
     "data": {
      "text/plain": [
       "<matplotlib.legend.Legend at 0x3032b10>"
      ]
     },
     "execution_count": 8,
     "metadata": {},
     "output_type": "execute_result"
    }
   ],
   "source": [
    "ax.legend(list(leg[::1]), list(lab), scatterpoints=0, loc='upper right', ncol=1, fontsize=8)"
   ]
  },
  {
   "cell_type": "code",
   "execution_count": 9,
   "metadata": {
    "collapsed": false
   },
   "outputs": [
    {
     "data": {
      "image/png": "[encoded data removed]",
      "text/plain": [
       "<matplotlib.figure.Figure at 0x2f16050>"
      ]
     },
     "execution_count": 9,
     "metadata": {},
     "output_type": "execute_result"
    }
   ],
   "source": [
    "fig"
   ]
  },
  {
   "cell_type": "code",
   "execution_count": 10,
   "metadata": {
    "collapsed": false
   },
   "outputs": [
    {
     "data": {
      "text/plain": [
       "<matplotlib.text.Text at 0x3193590>"
      ]
     },
     "execution_count": 10,
     "metadata": {},
     "output_type": "execute_result"
    }
   ],
   "source": [
    "fig.suptitle(\"MW Mass Comparison\")"
   ]
  },
  {
   "cell_type": "code",
   "execution_count": 11,
   "metadata": {
    "collapsed": false
   },
   "outputs": [
    {
     "data": {
      "text/plain": [
       "<matplotlib.text.Text at 0x7f40678cf490>"
      ]
     },
     "execution_count": 11,
     "metadata": {},
     "output_type": "execute_result"
    }
   ],
   "source": [
    "ax.set_xlabel(\"$M_{200}[10^{12}M_{\\odot}]$\")"
   ]
  },
  {
   "cell_type": "code",
   "execution_count": 12,
   "metadata": {
    "collapsed": false
   },
   "outputs": [
    {
     "data": {
      "image/png": "[encoded data removed]",
      "text/plain": [
       "<matplotlib.figure.Figure at 0x2f16050>"
      ]
     },
     "execution_count": 12,
     "metadata": {},
     "output_type": "execute_result"
    }
   ],
   "source": [
    "fig"
   ]
  },
  {
   "cell_type": "code",
   "execution_count": 42,
   "metadata": {
    "collapsed": true
   },
   "outputs": [],
   "source": [
    "fig.savefig('/afs/slac.stanford.edu/u/ki/mwillia1/Thesis/LocalGroupHaloProps/doc/thesis/plots/final_plots/MW_results.png', dpi=1200)"
   ]
  },
  {
   "cell_type": "code",
   "execution_count": null,
   "metadata": {
    "collapsed": true
   },
   "outputs": [],
   "source": []
  }
 ],
 "metadata": {
  "kernelspec": {
   "display_name": "Python 2",
   "language": "python",
   "name": "python2"
  },
  "language_info": {
   "codemirror_mode": {
    "name": "ipython",
    "version": 2
   },
   "file_extension": ".py",
   "mimetype": "text/x-python",
   "name": "python",
   "nbconvert_exporter": "python",
   "pygments_lexer": "ipython2",
   "version": "2.7.3"
  }
 },
 "nbformat": 4,
 "nbformat_minor": 0
}
