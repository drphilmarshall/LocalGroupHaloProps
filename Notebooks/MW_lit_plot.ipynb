{
 "cells": [
  {
   "cell_type": "code",
   "execution_count": 1,
   "metadata": {
    "collapsed": true
   },
   "outputs": [],
   "source": [
    "import matplotlib as plt\n",
    "%matplotlib inline"
   ]
  },
  {
   "cell_type": "code",
   "execution_count": 39,
   "metadata": {
    "collapsed": true
   },
   "outputs": [],
   "source": [
    "def make_mw_lit_plot(ax, dat):\n",
    "    labels_leg = []\n",
    "    labels = []\n",
    "    yticks = []\n",
    "    colors = []\n",
    "    leg = []\n",
    "    for line in dat:\n",
    "        labels_leg.append(line[0])\n",
    "        labels.append(line[7])\n",
    "        x = [line[1]]\n",
    "        y = [line[2]]\n",
    "        yticks.append(line[2])\n",
    "        xerr = [[line[3]], [line[4]]]\n",
    "        fmt = line[5]\n",
    "        ecolor = line[6]\n",
    "        color = line[6]\n",
    "        leg.append(ax.errorbar(x=x, y=y, xerr=xerr, fmt=fmt, ecolor=ecolor, color=color))\n",
    "    ax.set_yticks(yticks)\n",
    "    ax.set_yticklabels(labels)\n",
    "    ax.set_xlim((0,6))\n",
    "    ax.set_ylim((3,10))\n",
    "    return labels_leg, leg"
   ]
  },
  {
   "cell_type": "code",
   "execution_count": 40,
   "metadata": {
    "collapsed": false
   },
   "outputs": [],
   "source": [
    "# label, x, y, xerrlo, xerrhi, fmt, color\n",
    "#[\"Gonzalez 13\", 1.15, num-4, .26, 2.34, 'v', 'magenta', 'Mag Cl'] M200\n",
    "\n",
    "num = 8\n",
    "dat = [[\"Williamson 15\", .87, num+1, .30, .30, 'o', 'magenta', 'Quads'],[\"Williamson 15\", .52, num, .32, .65, 'o', 'magenta', 'Pairs'],\\\n",
    "       [\"Penarrubia 15\", 1.04, num-1, .23, .26, '^', 'b', 'LV dynamics'], [\"Kafle 14\", .8, num-2, .16, .31, '*', 'r', 'Halo Stars'],\\\n",
    "       [\"Busha 11\", 1.2, num-3, .7, 1.0, '^', 'magenta', 'Mag Cl'], [\"Li&White 08\", 1.57, num-4, .2, .2, 'o', 'k', 'Timing']]"
   ]
  },
  {
   "cell_type": "code",
   "execution_count": 41,
   "metadata": {
    "collapsed": false
   },
   "outputs": [
    {
     "data": {
      "image/png": "[encoded data removed]",
      "text/plain": [
       "<matplotlib.figure.Figure at 0x4494d10>"
      ]
     },
     "metadata": {},
     "output_type": "display_data"
    }
   ],
   "source": [
    "fig = figure()\n",
    "ax = fig.gca()\n",
    "lab, leg=make_mw_lit_plot(ax, dat)"
   ]
  },
  {
   "cell_type": "code",
   "execution_count": 42,
   "metadata": {
    "collapsed": false
   },
   "outputs": [
    {
     "data": {
      "text/plain": [
       "[<matplotlib.axis.XTick at 0x40fbd50>,\n",
       " <matplotlib.axis.XTick at 0x4012c90>,\n",
       " <matplotlib.axis.XTick at 0x46f4990>,\n",
       " <matplotlib.axis.XTick at 0x46f4f50>,\n",
       " <matplotlib.axis.XTick at 0x46f76d0>,\n",
       " <matplotlib.axis.XTick at 0x46f7e10>,\n",
       " <matplotlib.axis.XTick at 0x4842410>,\n",
       " <matplotlib.axis.XTick at 0x46f7f50>,\n",
       " <matplotlib.axis.XTick at 0x46ee750>,\n",
       " <matplotlib.axis.XTick at 0x40f6190>,\n",
       " <matplotlib.axis.XTick at 0x44b8c90>,\n",
       " <matplotlib.axis.XTick at 0x44aad90>]"
      ]
     },
     "execution_count": 42,
     "metadata": {},
     "output_type": "execute_result"
    }
   ],
   "source": [
    "ax.set_xticks(np.arange(0,6,.5))"
   ]
  },
  {
   "cell_type": "code",
   "execution_count": 43,
   "metadata": {
    "collapsed": false
   },
   "outputs": [],
   "source": [
    "for label in ax.xaxis.get_ticklabels()[::2]:\n",
    "    label.set_visible(False)"
   ]
  },
  {
   "cell_type": "code",
   "execution_count": 44,
   "metadata": {
    "collapsed": false
   },
   "outputs": [
    {
     "data": {
      "image/png": "[encoded data removed]",
      "text/plain": [
       "<matplotlib.figure.Figure at 0x4494d10>"
      ]
     },
     "execution_count": 44,
     "metadata": {},
     "output_type": "execute_result"
    }
   ],
   "source": [
    "fig"
   ]
  },
  {
   "cell_type": "code",
   "execution_count": 45,
   "metadata": {
    "collapsed": false
   },
   "outputs": [
    {
     "data": {
      "text/plain": [
       "<matplotlib.legend.Legend at 0x46f1790>"
      ]
     },
     "execution_count": 45,
     "metadata": {},
     "output_type": "execute_result"
    }
   ],
   "source": [
    "ax.legend(list(leg[::1]), list(lab), scatterpoints=0, loc='upper right', ncol=1, fontsize=8)"
   ]
  },
  {
   "cell_type": "code",
   "execution_count": 46,
   "metadata": {
    "collapsed": false
   },
   "outputs": [
    {
     "data": {
      "image/png": "[encoded data removed]",
      "text/plain": [
       "<matplotlib.figure.Figure at 0x4494d10>"
      ]
     },
     "execution_count": 46,
     "metadata": {},
     "output_type": "execute_result"
    }
   ],
   "source": [
    "fig"
   ]
  },
  {
   "cell_type": "code",
   "execution_count": 47,
   "metadata": {
    "collapsed": false
   },
   "outputs": [
    {
     "data": {
      "text/plain": [
       "<matplotlib.text.Text at 0x400ab50>"
      ]
     },
     "execution_count": 47,
     "metadata": {},
     "output_type": "execute_result"
    }
   ],
   "source": [
    "fig.suptitle(\"MW Mass Comparison\")"
   ]
  },
  {
   "cell_type": "code",
   "execution_count": 48,
   "metadata": {
    "collapsed": false
   },
   "outputs": [
    {
     "data": {
      "text/plain": [
       "<matplotlib.text.Text at 0x40f8950>"
      ]
     },
     "execution_count": 48,
     "metadata": {},
     "output_type": "execute_result"
    }
   ],
   "source": [
    "ax.set_xlabel(\"$M_{vir}[10^{12}M_{\\odot}]$\")"
   ]
  },
  {
   "cell_type": "code",
   "execution_count": 51,
   "metadata": {
    "collapsed": false
   },
   "outputs": [
    {
     "data": {
      "image/png": "[encoded data removed]",
      "text/plain": [
       "<matplotlib.figure.Figure at 0x4494d10>"
      ]
     },
     "execution_count": 51,
     "metadata": {},
     "output_type": "execute_result"
    }
   ],
   "source": [
    "fig"
   ]
  },
  {
   "cell_type": "code",
   "execution_count": 52,
   "metadata": {
    "collapsed": true
   },
   "outputs": [],
   "source": [
    "fig.savefig('/afs/slac.stanford.edu/u/ki/mwillia1/Thesis/LocalGroupHaloProps/MW_results.pdf', dpi=800)"
   ]
  },
  {
   "cell_type": "code",
   "execution_count": null,
   "metadata": {
    "collapsed": true
   },
   "outputs": [],
   "source": []
  }
 ],
 "metadata": {
  "kernelspec": {
   "display_name": "Python 2",
   "language": "python",
   "name": "python2"
  },
  "language_info": {
   "codemirror_mode": {
    "name": "ipython",
    "version": 2
   },
   "file_extension": ".py",
   "mimetype": "text/x-python",
   "name": "python",
   "nbconvert_exporter": "python",
   "pygments_lexer": "ipython2",
   "version": "2.7.3"
  }
 },
 "nbformat": 4,
 "nbformat_minor": 0
}
