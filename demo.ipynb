{
 "metadata": {
  "name": "",
  "signature": "sha256:e4b73469305c72563fe3591753947427defb99231c9040524d6360e72d774172"
 },
 "nbformat": 3,
 "nbformat_minor": 0,
 "worksheets": [
  {
   "cells": [
    {
     "cell_type": "markdown",
     "metadata": {},
     "source": [
      "# Local Group Halo Properties: Demo Inference"
     ]
    },
    {
     "cell_type": "code",
     "collapsed": false,
     "input": [
      "import localgroup\n",
      "import triangle"
     ],
     "language": "python",
     "metadata": {},
     "outputs": []
    },
    {
     "cell_type": "markdown",
     "metadata": {},
     "source": [
      "We approximate the local group distance, radial velocity and proper motion likelihood function by sampling from the posterior distributions for these variables reported in the literature and transforming to kinematic variables in the M31-centric coordinate system."
     ]
    },
    {
     "cell_type": "code",
     "collapsed": false,
     "input": [
      "L = localgroup.Likelihood()\n",
      "L.generate(Nsamples=10000)\n",
      "print L.samples"
     ],
     "language": "python",
     "metadata": {},
     "outputs": [
      {
       "output_type": "stream",
       "stream": "stdout",
       "text": [
        "[[  7.56370869e-01  -1.02034544e+02   3.30397690e+01   2.00173974e-01\n",
        "   -1.27819978e+02   1.37881653e+02]\n",
        " [  7.93177795e-01  -1.05780225e+02   1.69481996e+02   2.02376191e-01\n",
        "   -3.46708144e+02   7.38725771e+01]\n",
        " [  8.44284348e-01  -1.01281239e+02   1.10706323e+02   2.14424622e-01\n",
        "   -1.25736530e+02   1.01391085e+02]\n",
        " ..., \n",
        " [  7.24935335e-01  -1.01402863e+02   9.21684241e+01   2.18671583e-01\n",
        "   -1.96092921e+02   1.92617699e+02]\n",
        " [  7.71766976e-01  -1.00920433e+02   1.46231793e+02   2.13003875e-01\n",
        "   -2.43529972e+02   1.49285293e+02]\n",
        " [  7.48423631e-01  -9.59021396e+01   7.33368649e+01   2.19206138e-01\n",
        "   -2.03114668e+02   1.86434949e+02]]\n"
       ]
      }
     ],
     "prompt_number": 9
    },
    {
     "cell_type": "markdown",
     "metadata": {},
     "source": [
      "Inside the Likelihood object is a \"triplet\" object called T, which contains an array of sample local groups, each with kinematic parameters consistent with the observational data. Let's plot these kinematic parameters in a \"triangle\" figure, to show all their 1 and 2-D marginal distributions."
     ]
    },
    {
     "cell_type": "code",
     "collapsed": false,
     "input": [
      "print L.T"
     ],
     "language": "python",
     "metadata": {},
     "outputs": [
      {
       "output_type": "stream",
       "stream": "stdout",
       "text": [
        "<localgroup.triplet.Triplet object at 0x3dca6d0>\n"
       ]
      }
     ],
     "prompt_number": 10
    },
    {
     "cell_type": "code",
     "collapsed": false,
     "input": [
      "# import triangle\n",
      "# etc."
     ],
     "language": "python",
     "metadata": {},
     "outputs": [],
     "prompt_number": 11
    },
    {
     "cell_type": "code",
     "collapsed": false,
     "input": [
      "L.approximate()\n",
      "print L.PDF"
     ],
     "language": "python",
     "metadata": {},
     "outputs": [
      {
       "output_type": "stream",
       "stream": "stdout",
       "text": [
        "GMM(covariance_type='diag', init_params='wmc', min_covar=0.001,\n",
        "  n_components=1, n_init=1, n_iter=100, params='wmc', random_state=None,\n",
        "  thresh=0.01)\n"
       ]
      }
     ],
     "prompt_number": 12
    },
    {
     "cell_type": "code",
     "collapsed": false,
     "input": [
      "L.samples.shape\n"
     ],
     "language": "python",
     "metadata": {},
     "outputs": []
    },
    {
     "cell_type": "code",
     "collapsed": false,
     "input": [],
     "language": "python",
     "metadata": {},
     "outputs": []
    }
   ],
   "metadata": {}
  }
 ]
}