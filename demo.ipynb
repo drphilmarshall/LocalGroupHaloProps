{
 "metadata": {
  "name": "",
  "signature": "sha256:9bea24fd1e6a78fb8261c019a39259719a54825d1acbb8920fec4bb4859df1e7"
 },
 "nbformat": 3,
 "nbformat_minor": 0,
 "worksheets": [
  {
   "cells": [
    {
     "cell_type": "markdown",
     "metadata": {},
     "source": [
      "# Local Group Halo Properties: Demo Inference"
     ]
    },
    {
     "cell_type": "code",
     "collapsed": false,
     "input": [
      "import localgroup"
     ],
     "language": "python",
     "metadata": {},
     "outputs": [],
     "prompt_number": 1
    },
    {
     "cell_type": "markdown",
     "metadata": {},
     "source": [
      "We approximate the local group distance, radial velocity and proper motion likelihood function by sampling from the posterior distributions for these variables reported in the literature and transforming to kinematic variables in the M31-centric coordinate system."
     ]
    },
    {
     "cell_type": "code",
     "collapsed": false,
     "input": [
      "L = localgroup.Likelihood()\n",
      "L.generate(Nsamples=10000)\n",
      "print L.samples"
     ],
     "language": "python",
     "metadata": {},
     "outputs": [
      {
       "output_type": "stream",
       "stream": "stdout",
       "text": [
        "[[  7.58345389e-01  -9.12432621e+01   1.65157150e+02   2.02233980e-01\n",
        "   -3.58985821e+02   1.65881478e+02]\n",
        " [  7.88233116e-01  -1.00044142e+02   1.62417132e+02   2.09807639e-01\n",
        "   -3.13599817e+02   1.56833006e+02]\n",
        " [  7.61905995e-01  -9.95937284e+01   1.06578181e+02   1.99702971e-01\n",
        "   -2.39297906e+02   2.17271891e+02]\n",
        " ..., \n",
        " [  8.23008304e-01  -1.06736321e+02   7.54207288e+01   2.09158071e-01\n",
        "   -2.87552821e+02   1.26235360e+02]\n",
        " [  7.74920404e-01  -1.05050944e+02   4.10675189e+01   2.09375338e-01\n",
        "   -1.93592476e+02   1.45616453e+02]\n",
        " [  7.67026611e-01  -1.05964730e+02   1.53545990e+02   2.12685351e-01\n",
        "   -3.06746372e+02   1.84460723e+02]]\n"
       ]
      },
      {
       "output_type": "stream",
       "stream": "stderr",
       "text": [
        "localgroup/halo.py:132: RuntimeWarning: invalid value encountered in divide\n",
        "  self.v_r = (self.x*self.vx + self.y*self.vy + self.z*self.vz)/self.D\n"
       ]
      }
     ],
     "prompt_number": 2
    },
    {
     "cell_type": "markdown",
     "metadata": {},
     "source": [
      "Inside the Likelihood object is a \"triplet\" object called T, which contains an array of sample local groups, each with kinematic parameters consistent with the observational data. Let's plot these kinematic parameters in a \"triangle\" figure, to show all their 1 and 2-D marginal distributions."
     ]
    },
    {
     "cell_type": "code",
     "collapsed": false,
     "input": [
      "print L.T"
     ],
     "language": "python",
     "metadata": {},
     "outputs": [
      {
       "output_type": "stream",
       "stream": "stdout",
       "text": [
        "<localgroup.triplet.Triplet object at 0x106e85090>\n"
       ]
      }
     ],
     "prompt_number": 3
    },
    {
     "cell_type": "code",
     "collapsed": false,
     "input": [
      "# import triangle\n",
      "# etc."
     ],
     "language": "python",
     "metadata": {},
     "outputs": []
    }
   ],
   "metadata": {}
  }
 ]
}