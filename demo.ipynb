{
 "metadata": {
  "name": "",
  "signature": "sha256:aca9345844e1d4a1c733d4a15e6e3ceeb0293bf685cfc92517c89362edc2cdb4"
 },
 "nbformat": 3,
 "nbformat_minor": 0,
 "worksheets": [
  {
   "cells": [
    {
     "cell_type": "markdown",
     "metadata": {},
     "source": [
      "# Local Group Halo Properties: Demo Inference"
     ]
    },
    {
     "cell_type": "code",
     "collapsed": false,
     "input": [
      "import localgroup\n",
      "import triangle"
     ],
     "language": "python",
     "metadata": {},
     "outputs": [],
     "prompt_number": 2
    },
    {
     "cell_type": "markdown",
     "metadata": {},
     "source": [
      "We approximate the local group distance, radial velocity and proper motion likelihood function by sampling from the posterior distributions for these variables reported in the literature and transforming to kinematic variables in the M31-centric coordinate system."
     ]
    },
    {
     "cell_type": "code",
     "collapsed": false,
     "input": [
      "L = localgroup.Likelihood()\n",
      "L.generate(Nsamples=10000)\n",
      "print L.samples"
     ],
     "language": "python",
     "metadata": {},
     "outputs": [
      {
       "output_type": "stream",
       "stream": "stdout",
       "text": [
        "[[  7.87354724e-01  -9.51101783e+01   8.47320525e+01   2.14375411e-01\n",
        "   -2.37084053e+02   1.85892351e+02]\n",
        " [  8.09862665e-01  -9.62579792e+01   8.18860316e+01   2.06267371e-01\n",
        "   -2.70664873e+02   7.78423864e+01]\n",
        " [  7.56789512e-01  -9.78601205e+01   7.34975188e+01   2.07551921e-01\n",
        "   -2.16907677e+02   2.15219877e+02]\n",
        " ..., \n",
        " [  8.01230989e-01  -1.05803647e+02   1.60375464e+02   2.12130486e-01\n",
        "   -3.14569259e+02   1.73752104e+02]\n",
        " [  8.16397994e-01  -9.77138063e+01   2.50000171e+01   2.07727349e-01\n",
        "   -2.16877757e+02   9.48640089e+01]\n",
        " [  7.90767109e-01  -9.18536306e+01   5.57489743e+01   2.03852600e-01\n",
        "   -2.79621301e+02   1.30285588e+02]]\n"
       ]
      },
      {
       "output_type": "stream",
       "stream": "stderr",
       "text": [
        "localgroup/halo.py:132: RuntimeWarning: invalid value encountered in divide\n",
        "  self.v_r = (self.x*self.vx + self.y*self.vy + self.z*self.vz)/self.D\n"
       ]
      }
     ],
     "prompt_number": 3
    },
    {
     "cell_type": "markdown",
     "metadata": {},
     "source": [
      "Inside the Likelihood object is a \"triplet\" object called T, which contains an array of sample local groups, each with kinematic parameters consistent with the observational data. Let's plot these kinematic parameters in a \"triangle\" figure, to show all their 1 and 2-D marginal distributions."
     ]
    },
    {
     "cell_type": "code",
     "collapsed": false,
     "input": [
      "print L.T"
     ],
     "language": "python",
     "metadata": {},
     "outputs": [
      {
       "output_type": "stream",
       "stream": "stdout",
       "text": [
        "<localgroup.triplet.Triplet object at 0x39c2850>\n"
       ]
      }
     ],
     "prompt_number": 4
    },
    {
     "cell_type": "code",
     "collapsed": false,
     "input": [
      "# import triangle\n",
      "# etc."
     ],
     "language": "python",
     "metadata": {},
     "outputs": []
    },
    {
     "cell_type": "code",
     "collapsed": false,
     "input": [
      "L.approximate()\n",
      "print L.PDF"
     ],
     "language": "python",
     "metadata": {},
     "outputs": [
      {
       "ename": "AttributeError",
       "evalue": "'Likelihood' object has no attribute 'data'",
       "output_type": "pyerr",
       "traceback": [
        "\u001b[1;31m---------------------------------------------------------------------------\u001b[0m\n\u001b[1;31mAttributeError\u001b[0m                            Traceback (most recent call last)",
        "\u001b[1;32m<ipython-input-5-6c4409a358a1>\u001b[0m in \u001b[0;36m<module>\u001b[1;34m()\u001b[0m\n\u001b[1;32m----> 1\u001b[1;33m \u001b[0mL\u001b[0m\u001b[1;33m.\u001b[0m\u001b[0mapproximate\u001b[0m\u001b[1;33m(\u001b[0m\u001b[1;33m)\u001b[0m\u001b[1;33m\u001b[0m\u001b[0m\n\u001b[0m\u001b[0;32m      2\u001b[0m \u001b[1;32mprint\u001b[0m \u001b[0mL\u001b[0m\u001b[1;33m.\u001b[0m\u001b[0mPDF\u001b[0m\u001b[1;33m\u001b[0m\u001b[0m\n",
        "\u001b[1;32m/afs/slac.stanford.edu/u/ki/mwillia1/Thesis/LocalGroupHaloProps/localgroup/likelihood.pyc\u001b[0m in \u001b[0;36mapproximate\u001b[1;34m(self, mode)\u001b[0m\n\u001b[0;32m     69\u001b[0m         \u001b[1;32mif\u001b[0m \u001b[1;33m(\u001b[0m\u001b[0mmode\u001b[0m \u001b[1;33m==\u001b[0m \u001b[1;34m\"GMM\"\u001b[0m\u001b[1;33m)\u001b[0m\u001b[1;33m:\u001b[0m\u001b[1;33m\u001b[0m\u001b[0m\n\u001b[0;32m     70\u001b[0m             \u001b[0mself\u001b[0m\u001b[1;33m.\u001b[0m\u001b[0mPDF\u001b[0m \u001b[1;33m=\u001b[0m \u001b[0mmixture\u001b[0m\u001b[1;33m.\u001b[0m\u001b[0mGMM\u001b[0m\u001b[1;33m(\u001b[0m\u001b[1;33m)\u001b[0m\u001b[1;33m\u001b[0m\u001b[0m\n\u001b[1;32m---> 71\u001b[1;33m             \u001b[0mself\u001b[0m\u001b[1;33m.\u001b[0m\u001b[0mPDF\u001b[0m\u001b[1;33m.\u001b[0m\u001b[0mfit\u001b[0m\u001b[1;33m(\u001b[0m\u001b[0mself\u001b[0m\u001b[1;33m.\u001b[0m\u001b[0mdata\u001b[0m\u001b[1;33m)\u001b[0m\u001b[1;33m\u001b[0m\u001b[0m\n\u001b[0m\u001b[0;32m     72\u001b[0m \u001b[1;33m\u001b[0m\u001b[0m\n\u001b[0;32m     73\u001b[0m         \u001b[1;32melse\u001b[0m\u001b[1;33m:\u001b[0m\u001b[1;33m\u001b[0m\u001b[0m\n",
        "\u001b[1;31mAttributeError\u001b[0m: 'Likelihood' object has no attribute 'data'"
       ]
      }
     ],
     "prompt_number": 5
    },
    {
     "cell_type": "code",
     "collapsed": false,
     "input": [],
     "language": "python",
     "metadata": {},
     "outputs": []
    }
   ],
   "metadata": {}
  }
 ]
}